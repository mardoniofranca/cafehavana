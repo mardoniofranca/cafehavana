{
 "cells": [
  {
   "cell_type": "code",
   "execution_count": 1,
   "id": "db5337cd",
   "metadata": {},
   "outputs": [],
   "source": [
    "import pandas as pd"
   ]
  },
  {
   "cell_type": "code",
   "execution_count": 2,
   "id": "6338c6fb",
   "metadata": {},
   "outputs": [],
   "source": [
    "import matplotlib.pyplot as plt\n",
    "plt.rcParams[\"figure.figsize\"] = (20,3)"
   ]
  },
  {
   "cell_type": "code",
   "execution_count": 3,
   "id": "2cd949e9",
   "metadata": {},
   "outputs": [],
   "source": [
    "df_arabica = pd.read_csv('../data/cafe_arabica.csv')"
   ]
  },
  {
   "cell_type": "code",
   "execution_count": 4,
   "id": "b0a5513a",
   "metadata": {},
   "outputs": [
    {
     "data": {
      "text/html": [
       "<div>\n",
       "<style scoped>\n",
       "    .dataframe tbody tr th:only-of-type {\n",
       "        vertical-align: middle;\n",
       "    }\n",
       "\n",
       "    .dataframe tbody tr th {\n",
       "        vertical-align: top;\n",
       "    }\n",
       "\n",
       "    .dataframe thead th {\n",
       "        text-align: right;\n",
       "    }\n",
       "</style>\n",
       "<table border=\"1\" class=\"dataframe\">\n",
       "  <thead>\n",
       "    <tr style=\"text-align: right;\">\n",
       "      <th></th>\n",
       "      <th>Data</th>\n",
       "      <th>ValorReal</th>\n",
       "      <th>ValorDolar</th>\n",
       "    </tr>\n",
       "  </thead>\n",
       "  <tbody>\n",
       "    <tr>\n",
       "      <th>0</th>\n",
       "      <td>02/09/1996</td>\n",
       "      <td>123,09</td>\n",
       "      <td>121,15</td>\n",
       "    </tr>\n",
       "    <tr>\n",
       "      <th>1</th>\n",
       "      <td>03/09/1996</td>\n",
       "      <td>119,68</td>\n",
       "      <td>117,69</td>\n",
       "    </tr>\n",
       "    <tr>\n",
       "      <th>2</th>\n",
       "      <td>04/09/1996</td>\n",
       "      <td>119,39</td>\n",
       "      <td>117,44</td>\n",
       "    </tr>\n",
       "    <tr>\n",
       "      <th>3</th>\n",
       "      <td>05/09/1996</td>\n",
       "      <td>118,42</td>\n",
       "      <td>116,38</td>\n",
       "    </tr>\n",
       "    <tr>\n",
       "      <th>4</th>\n",
       "      <td>06/09/1996</td>\n",
       "      <td>118,09</td>\n",
       "      <td>115,98</td>\n",
       "    </tr>\n",
       "  </tbody>\n",
       "</table>\n",
       "</div>"
      ],
      "text/plain": [
       "         Data ValorReal ValorDolar\n",
       "0  02/09/1996    123,09     121,15\n",
       "1  03/09/1996    119,68     117,69\n",
       "2  04/09/1996    119,39     117,44\n",
       "3  05/09/1996    118,42     116,38\n",
       "4  06/09/1996    118,09     115,98"
      ]
     },
     "execution_count": 4,
     "metadata": {},
     "output_type": "execute_result"
    }
   ],
   "source": [
    "df_arabica.head()"
   ]
  },
  {
   "cell_type": "code",
   "execution_count": 5,
   "id": "b9c3b55b",
   "metadata": {},
   "outputs": [],
   "source": [
    "def valor(line):\n",
    "    line = line.replace(\",\",\".\")\n",
    "    v    = float(line)\n",
    "    return v    "
   ]
  },
  {
   "cell_type": "code",
   "execution_count": 6,
   "id": "355ca2e4",
   "metadata": {},
   "outputs": [
    {
     "data": {
      "text/plain": [
       "123.09"
      ]
     },
     "execution_count": 6,
     "metadata": {},
     "output_type": "execute_result"
    }
   ],
   "source": [
    "valor('123,09')"
   ]
  },
  {
   "cell_type": "code",
   "execution_count": 7,
   "id": "03300842",
   "metadata": {},
   "outputs": [],
   "source": [
    "df_arabica['ValorReal_']  = df_arabica['ValorReal'].apply(lambda x: valor(x))\n",
    "df_arabica['ValorDolar_'] = df_arabica['ValorDolar'].apply(lambda x: valor(x))"
   ]
  },
  {
   "cell_type": "code",
   "execution_count": 8,
   "id": "fd604a56",
   "metadata": {},
   "outputs": [],
   "source": [
    "df_arabica = df_arabica[['Data','ValorReal_','ValorDolar_']]\n",
    "df_arabica.columns = ['Data','ValorReal','ValorDolar']"
   ]
  },
  {
   "cell_type": "code",
   "execution_count": 9,
   "id": "0d529ef8",
   "metadata": {},
   "outputs": [
    {
     "data": {
      "text/html": [
       "<div>\n",
       "<style scoped>\n",
       "    .dataframe tbody tr th:only-of-type {\n",
       "        vertical-align: middle;\n",
       "    }\n",
       "\n",
       "    .dataframe tbody tr th {\n",
       "        vertical-align: top;\n",
       "    }\n",
       "\n",
       "    .dataframe thead th {\n",
       "        text-align: right;\n",
       "    }\n",
       "</style>\n",
       "<table border=\"1\" class=\"dataframe\">\n",
       "  <thead>\n",
       "    <tr style=\"text-align: right;\">\n",
       "      <th></th>\n",
       "      <th>Data</th>\n",
       "      <th>ValorReal</th>\n",
       "      <th>ValorDolar</th>\n",
       "    </tr>\n",
       "  </thead>\n",
       "  <tbody>\n",
       "    <tr>\n",
       "      <th>0</th>\n",
       "      <td>02/09/1996</td>\n",
       "      <td>123.09</td>\n",
       "      <td>121.15</td>\n",
       "    </tr>\n",
       "    <tr>\n",
       "      <th>1</th>\n",
       "      <td>03/09/1996</td>\n",
       "      <td>119.68</td>\n",
       "      <td>117.69</td>\n",
       "    </tr>\n",
       "    <tr>\n",
       "      <th>2</th>\n",
       "      <td>04/09/1996</td>\n",
       "      <td>119.39</td>\n",
       "      <td>117.44</td>\n",
       "    </tr>\n",
       "    <tr>\n",
       "      <th>3</th>\n",
       "      <td>05/09/1996</td>\n",
       "      <td>118.42</td>\n",
       "      <td>116.38</td>\n",
       "    </tr>\n",
       "    <tr>\n",
       "      <th>4</th>\n",
       "      <td>06/09/1996</td>\n",
       "      <td>118.09</td>\n",
       "      <td>115.98</td>\n",
       "    </tr>\n",
       "  </tbody>\n",
       "</table>\n",
       "</div>"
      ],
      "text/plain": [
       "         Data  ValorReal  ValorDolar\n",
       "0  02/09/1996     123.09      121.15\n",
       "1  03/09/1996     119.68      117.69\n",
       "2  04/09/1996     119.39      117.44\n",
       "3  05/09/1996     118.42      116.38\n",
       "4  06/09/1996     118.09      115.98"
      ]
     },
     "execution_count": 9,
     "metadata": {},
     "output_type": "execute_result"
    }
   ],
   "source": [
    "df_arabica.head()"
   ]
  },
  {
   "cell_type": "code",
   "execution_count": 10,
   "id": "768eb19a",
   "metadata": {},
   "outputs": [],
   "source": [
    "df_arabica['Index'] = range(1, len(df_arabica) + 1)"
   ]
  },
  {
   "cell_type": "code",
   "execution_count": 11,
   "id": "379ebef0",
   "metadata": {},
   "outputs": [],
   "source": [
    "df_arabica = df_arabica[['Index','Data','ValorReal','ValorDolar']]"
   ]
  },
  {
   "cell_type": "code",
   "execution_count": 12,
   "id": "0d63612c",
   "metadata": {},
   "outputs": [
    {
     "data": {
      "text/html": [
       "<div>\n",
       "<style scoped>\n",
       "    .dataframe tbody tr th:only-of-type {\n",
       "        vertical-align: middle;\n",
       "    }\n",
       "\n",
       "    .dataframe tbody tr th {\n",
       "        vertical-align: top;\n",
       "    }\n",
       "\n",
       "    .dataframe thead th {\n",
       "        text-align: right;\n",
       "    }\n",
       "</style>\n",
       "<table border=\"1\" class=\"dataframe\">\n",
       "  <thead>\n",
       "    <tr style=\"text-align: right;\">\n",
       "      <th></th>\n",
       "      <th>Index</th>\n",
       "      <th>Data</th>\n",
       "      <th>ValorReal</th>\n",
       "      <th>ValorDolar</th>\n",
       "    </tr>\n",
       "  </thead>\n",
       "  <tbody>\n",
       "    <tr>\n",
       "      <th>0</th>\n",
       "      <td>1</td>\n",
       "      <td>02/09/1996</td>\n",
       "      <td>123.09</td>\n",
       "      <td>121.15</td>\n",
       "    </tr>\n",
       "    <tr>\n",
       "      <th>1</th>\n",
       "      <td>2</td>\n",
       "      <td>03/09/1996</td>\n",
       "      <td>119.68</td>\n",
       "      <td>117.69</td>\n",
       "    </tr>\n",
       "    <tr>\n",
       "      <th>2</th>\n",
       "      <td>3</td>\n",
       "      <td>04/09/1996</td>\n",
       "      <td>119.39</td>\n",
       "      <td>117.44</td>\n",
       "    </tr>\n",
       "    <tr>\n",
       "      <th>3</th>\n",
       "      <td>4</td>\n",
       "      <td>05/09/1996</td>\n",
       "      <td>118.42</td>\n",
       "      <td>116.38</td>\n",
       "    </tr>\n",
       "    <tr>\n",
       "      <th>4</th>\n",
       "      <td>5</td>\n",
       "      <td>06/09/1996</td>\n",
       "      <td>118.09</td>\n",
       "      <td>115.98</td>\n",
       "    </tr>\n",
       "  </tbody>\n",
       "</table>\n",
       "</div>"
      ],
      "text/plain": [
       "   Index        Data  ValorReal  ValorDolar\n",
       "0      1  02/09/1996     123.09      121.15\n",
       "1      2  03/09/1996     119.68      117.69\n",
       "2      3  04/09/1996     119.39      117.44\n",
       "3      4  05/09/1996     118.42      116.38\n",
       "4      5  06/09/1996     118.09      115.98"
      ]
     },
     "execution_count": 12,
     "metadata": {},
     "output_type": "execute_result"
    }
   ],
   "source": [
    "df_arabica.head()"
   ]
  },
  {
   "cell_type": "code",
   "execution_count": 13,
   "id": "5b60889a",
   "metadata": {},
   "outputs": [
    {
     "data": {
      "image/png": "[encoded data removed]",
      "text/plain": [
       "<Figure size 2160x216 with 1 Axes>"
      ]
     },
     "metadata": {
      "needs_background": "light"
     },
     "output_type": "display_data"
    }
   ],
   "source": [
    "plt.rcParams[\"figure.figsize\"] = (30,3)\n",
    "ax1 = df_arabica.plot(kind='scatter', x='Index', y='ValorReal', color='b')    \n",
    "ax2 = df_arabica.plot(kind='scatter', x='Index', y='ValorDolar', color='g', ax=ax1)"
   ]
  },
  {
   "cell_type": "code",
   "execution_count": 14,
   "id": "00fdfcf6",
   "metadata": {},
   "outputs": [
    {
     "data": {
      "text/plain": [
       "(6665, 4)"
      ]
     },
     "execution_count": 14,
     "metadata": {},
     "output_type": "execute_result"
    }
   ],
   "source": [
    "df_arabica.shape"
   ]
  },
  {
   "cell_type": "code",
   "execution_count": 15,
   "id": "3b504def",
   "metadata": {},
   "outputs": [],
   "source": [
    "df_robusta = pd.read_csv('../data/cafe_robusta.csv')"
   ]
  },
  {
   "cell_type": "code",
   "execution_count": 16,
   "id": "a368cd0b",
   "metadata": {},
   "outputs": [
    {
     "data": {
      "text/html": [
       "<div>\n",
       "<style scoped>\n",
       "    .dataframe tbody tr th:only-of-type {\n",
       "        vertical-align: middle;\n",
       "    }\n",
       "\n",
       "    .dataframe tbody tr th {\n",
       "        vertical-align: top;\n",
       "    }\n",
       "\n",
       "    .dataframe thead th {\n",
       "        text-align: right;\n",
       "    }\n",
       "</style>\n",
       "<table border=\"1\" class=\"dataframe\">\n",
       "  <thead>\n",
       "    <tr style=\"text-align: right;\">\n",
       "      <th></th>\n",
       "      <th>Data</th>\n",
       "      <th>ValorReal</th>\n",
       "      <th>ValorDolar</th>\n",
       "    </tr>\n",
       "  </thead>\n",
       "  <tbody>\n",
       "    <tr>\n",
       "      <th>0</th>\n",
       "      <td>08/11/2001</td>\n",
       "      <td>55,76</td>\n",
       "      <td>21,75</td>\n",
       "    </tr>\n",
       "    <tr>\n",
       "      <th>1</th>\n",
       "      <td>09/11/2001</td>\n",
       "      <td>56,02</td>\n",
       "      <td>22,06</td>\n",
       "    </tr>\n",
       "    <tr>\n",
       "      <th>2</th>\n",
       "      <td>12/11/2001</td>\n",
       "      <td>55,65</td>\n",
       "      <td>21,81</td>\n",
       "    </tr>\n",
       "    <tr>\n",
       "      <th>3</th>\n",
       "      <td>13/11/2001</td>\n",
       "      <td>55,61</td>\n",
       "      <td>22,05</td>\n",
       "    </tr>\n",
       "    <tr>\n",
       "      <th>4</th>\n",
       "      <td>14/11/2001</td>\n",
       "      <td>56,14</td>\n",
       "      <td>22,06</td>\n",
       "    </tr>\n",
       "  </tbody>\n",
       "</table>\n",
       "</div>"
      ],
      "text/plain": [
       "         Data ValorReal ValorDolar\n",
       "0  08/11/2001     55,76      21,75\n",
       "1  09/11/2001     56,02      22,06\n",
       "2  12/11/2001     55,65      21,81\n",
       "3  13/11/2001     55,61      22,05\n",
       "4  14/11/2001     56,14      22,06"
      ]
     },
     "execution_count": 16,
     "metadata": {},
     "output_type": "execute_result"
    }
   ],
   "source": [
    "df_robusta.head()"
   ]
  },
  {
   "cell_type": "code",
   "execution_count": 17,
   "id": "932f0141",
   "metadata": {},
   "outputs": [],
   "source": [
    "df_robusta['ValorReal_']  = df_robusta['ValorReal'].apply(lambda x: valor(x))\n",
    "df_robusta['ValorDolar_'] = df_robusta['ValorDolar'].apply(lambda x: valor(x))\n",
    "df_robusta = df_robusta[['Data','ValorReal_','ValorDolar_']]\n",
    "df_robusta.columns = ['Data','ValorReal','ValorDolar']\n",
    "df_robusta['Index'] = range(1, len(df_robusta) + 1)\n",
    "df_robusta = df_robusta[['Index','Data','ValorReal','ValorDolar']]"
   ]
  },
  {
   "cell_type": "code",
   "execution_count": 18,
   "id": "01fddf69",
   "metadata": {},
   "outputs": [
    {
     "data": {
      "text/html": [
       "<div>\n",
       "<style scoped>\n",
       "    .dataframe tbody tr th:only-of-type {\n",
       "        vertical-align: middle;\n",
       "    }\n",
       "\n",
       "    .dataframe tbody tr th {\n",
       "        vertical-align: top;\n",
       "    }\n",
       "\n",
       "    .dataframe thead th {\n",
       "        text-align: right;\n",
       "    }\n",
       "</style>\n",
       "<table border=\"1\" class=\"dataframe\">\n",
       "  <thead>\n",
       "    <tr style=\"text-align: right;\">\n",
       "      <th></th>\n",
       "      <th>Index</th>\n",
       "      <th>Data</th>\n",
       "      <th>ValorReal</th>\n",
       "      <th>ValorDolar</th>\n",
       "    </tr>\n",
       "  </thead>\n",
       "  <tbody>\n",
       "    <tr>\n",
       "      <th>0</th>\n",
       "      <td>1</td>\n",
       "      <td>08/11/2001</td>\n",
       "      <td>55.76</td>\n",
       "      <td>21.75</td>\n",
       "    </tr>\n",
       "    <tr>\n",
       "      <th>1</th>\n",
       "      <td>2</td>\n",
       "      <td>09/11/2001</td>\n",
       "      <td>56.02</td>\n",
       "      <td>22.06</td>\n",
       "    </tr>\n",
       "    <tr>\n",
       "      <th>2</th>\n",
       "      <td>3</td>\n",
       "      <td>12/11/2001</td>\n",
       "      <td>55.65</td>\n",
       "      <td>21.81</td>\n",
       "    </tr>\n",
       "    <tr>\n",
       "      <th>3</th>\n",
       "      <td>4</td>\n",
       "      <td>13/11/2001</td>\n",
       "      <td>55.61</td>\n",
       "      <td>22.05</td>\n",
       "    </tr>\n",
       "    <tr>\n",
       "      <th>4</th>\n",
       "      <td>5</td>\n",
       "      <td>14/11/2001</td>\n",
       "      <td>56.14</td>\n",
       "      <td>22.06</td>\n",
       "    </tr>\n",
       "  </tbody>\n",
       "</table>\n",
       "</div>"
      ],
      "text/plain": [
       "   Index        Data  ValorReal  ValorDolar\n",
       "0      1  08/11/2001      55.76       21.75\n",
       "1      2  09/11/2001      56.02       22.06\n",
       "2      3  12/11/2001      55.65       21.81\n",
       "3      4  13/11/2001      55.61       22.05\n",
       "4      5  14/11/2001      56.14       22.06"
      ]
     },
     "execution_count": 18,
     "metadata": {},
     "output_type": "execute_result"
    }
   ],
   "source": [
    "df_robusta.head()"
   ]
  },
  {
   "cell_type": "code",
   "execution_count": 19,
   "id": "694f2cbd",
   "metadata": {},
   "outputs": [
    {
     "data": {
      "text/plain": [
       "(5331, 4)"
      ]
     },
     "execution_count": 19,
     "metadata": {},
     "output_type": "execute_result"
    }
   ],
   "source": [
    "df_robusta.shape"
   ]
  },
  {
   "cell_type": "code",
   "execution_count": 20,
   "id": "518d178b",
   "metadata": {},
   "outputs": [
    {
     "data": {
      "image/png": "[encoded data removed]",
      "text/plain": [
       "<Figure size 2160x216 with 1 Axes>"
      ]
     },
     "metadata": {
      "needs_background": "light"
     },
     "output_type": "display_data"
    }
   ],
   "source": [
    "plt.rcParams[\"figure.figsize\"] = (30,3)\n",
    "ax1 = df_robusta.plot(kind='scatter', x='Index', y='ValorReal', color='b')    \n",
    "ax2 = df_robusta.plot(kind='scatter', x='Index', y='ValorDolar', color='g', ax=ax1)"
   ]
  },
  {
   "cell_type": "code",
   "execution_count": 21,
   "id": "16c6b365",
   "metadata": {},
   "outputs": [],
   "source": [
    "df_acucar_1 = pd.read_csv('../data/acucar_cristal_esal.csv')"
   ]
  },
  {
   "cell_type": "code",
   "execution_count": 22,
   "id": "17d55019",
   "metadata": {},
   "outputs": [],
   "source": [
    "def prepare(df):\n",
    "    df['ValorReal_']  = df['ValorReal'].apply(lambda x: valor(x))\n",
    "    df['ValorDolar_'] = df['ValorDolar'].apply(lambda x: valor(x))\n",
    "    df = df[['Data','ValorReal_','ValorDolar_']]\n",
    "    df.columns = ['Data','ValorReal','ValorDolar']\n",
    "    df['Index'] = range(1, len(df) + 1)\n",
    "    df = df[['Index','Data','ValorReal','ValorDolar']]\n",
    "    return df"
   ]
  },
  {
   "cell_type": "code",
   "execution_count": 23,
   "id": "7e153acc",
   "metadata": {},
   "outputs": [],
   "source": [
    "def plot(df):\n",
    "    print(df.shape)\n",
    "    plt.rcParams[\"figure.figsize\"] = (30,3)\n",
    "    ax1 = df.plot(kind='scatter', x='Index', y='ValorReal', color='b')    \n",
    "    ax2 = df.plot(kind='scatter', x='Index', y='ValorDolar', color='g', ax=ax1)"
   ]
  },
  {
   "cell_type": "code",
   "execution_count": 24,
   "id": "fe688695",
   "metadata": {},
   "outputs": [
    {
     "name": "stderr",
     "output_type": "stream",
     "text": [
      "C:\\Users\\Mardonio\\AppData\\Local\\Temp\\ipykernel_2236\\309424008.py:6: SettingWithCopyWarning: \n",
      "A value is trying to be set on a copy of a slice from a DataFrame.\n",
      "Try using .loc[row_indexer,col_indexer] = value instead\n",
      "\n",
      "See the caveats in the documentation: https://pandas.pydata.org/pandas-docs/stable/user_guide/indexing.html#returning-a-view-versus-a-copy\n",
      "  df['Index'] = range(1, len(df) + 1)\n"
     ]
    }
   ],
   "source": [
    "df_acucar_1 = prepare(df_acucar_1)"
   ]
  },
  {
   "cell_type": "code",
   "execution_count": 25,
   "id": "c94dfa88",
   "metadata": {},
   "outputs": [
    {
     "data": {
      "text/html": [
       "<div>\n",
       "<style scoped>\n",
       "    .dataframe tbody tr th:only-of-type {\n",
       "        vertical-align: middle;\n",
       "    }\n",
       "\n",
       "    .dataframe tbody tr th {\n",
       "        vertical-align: top;\n",
       "    }\n",
       "\n",
       "    .dataframe thead th {\n",
       "        text-align: right;\n",
       "    }\n",
       "</style>\n",
       "<table border=\"1\" class=\"dataframe\">\n",
       "  <thead>\n",
       "    <tr style=\"text-align: right;\">\n",
       "      <th></th>\n",
       "      <th>Index</th>\n",
       "      <th>Data</th>\n",
       "      <th>ValorReal</th>\n",
       "      <th>ValorDolar</th>\n",
       "    </tr>\n",
       "  </thead>\n",
       "  <tbody>\n",
       "    <tr>\n",
       "      <th>0</th>\n",
       "      <td>1</td>\n",
       "      <td>23/01/2013</td>\n",
       "      <td>44.90</td>\n",
       "      <td>22.02</td>\n",
       "    </tr>\n",
       "    <tr>\n",
       "      <th>1</th>\n",
       "      <td>2</td>\n",
       "      <td>24/01/2013</td>\n",
       "      <td>44.57</td>\n",
       "      <td>21.91</td>\n",
       "    </tr>\n",
       "    <tr>\n",
       "      <th>2</th>\n",
       "      <td>3</td>\n",
       "      <td>25/01/2013</td>\n",
       "      <td>44.66</td>\n",
       "      <td>22.02</td>\n",
       "    </tr>\n",
       "    <tr>\n",
       "      <th>3</th>\n",
       "      <td>4</td>\n",
       "      <td>28/01/2013</td>\n",
       "      <td>44.68</td>\n",
       "      <td>22.07</td>\n",
       "    </tr>\n",
       "    <tr>\n",
       "      <th>4</th>\n",
       "      <td>5</td>\n",
       "      <td>29/01/2013</td>\n",
       "      <td>44.56</td>\n",
       "      <td>22.38</td>\n",
       "    </tr>\n",
       "  </tbody>\n",
       "</table>\n",
       "</div>"
      ],
      "text/plain": [
       "   Index        Data  ValorReal  ValorDolar\n",
       "0      1  23/01/2013      44.90       22.02\n",
       "1      2  24/01/2013      44.57       21.91\n",
       "2      3  25/01/2013      44.66       22.02\n",
       "3      4  28/01/2013      44.68       22.07\n",
       "4      5  29/01/2013      44.56       22.38"
      ]
     },
     "execution_count": 25,
     "metadata": {},
     "output_type": "execute_result"
    }
   ],
   "source": [
    "df_acucar_1.head()"
   ]
  },
  {
   "cell_type": "code",
   "execution_count": 26,
   "id": "f3df4dda",
   "metadata": {},
   "outputs": [
    {
     "name": "stdout",
     "output_type": "stream",
     "text": [
      "(2572, 4)\n"
     ]
    },
    {
     "data": {
      "image/png": "[encoded data removed]",
      "text/plain": [
       "<Figure size 2160x216 with 1 Axes>"
      ]
     },
     "metadata": {
      "needs_background": "light"
     },
     "output_type": "display_data"
    }
   ],
   "source": [
    "plot(df_acucar_1)"
   ]
  },
  {
   "cell_type": "code",
   "execution_count": 27,
   "id": "3a8f21bf",
   "metadata": {},
   "outputs": [
    {
     "name": "stderr",
     "output_type": "stream",
     "text": [
      "C:\\Users\\Mardonio\\AppData\\Local\\Temp\\ipykernel_2236\\309424008.py:6: SettingWithCopyWarning: \n",
      "A value is trying to be set on a copy of a slice from a DataFrame.\n",
      "Try using .loc[row_indexer,col_indexer] = value instead\n",
      "\n",
      "See the caveats in the documentation: https://pandas.pydata.org/pandas-docs/stable/user_guide/indexing.html#returning-a-view-versus-a-copy\n",
      "  df['Index'] = range(1, len(df) + 1)\n"
     ]
    },
    {
     "name": "stdout",
     "output_type": "stream",
     "text": [
      "(4973, 4)\n"
     ]
    },
    {
     "data": {
      "image/png": "[encoded data removed]",
      "text/plain": [
       "<Figure size 2160x216 with 1 Axes>"
      ]
     },
     "metadata": {
      "needs_background": "light"
     },
     "output_type": "display_data"
    }
   ],
   "source": [
    "df_acucar_2 = pd.read_csv('../data/acucar_cristal_branco.csv')\n",
    "df_acucar_2 = prepare(df_acucar_2)\n",
    "plot(df_acucar_2)"
   ]
  },
  {
   "cell_type": "code",
   "execution_count": 28,
   "id": "6d7db926",
   "metadata": {},
   "outputs": [
    {
     "data": {
      "text/plain": [
       "(6665, 5331, 2572, 4973)"
      ]
     },
     "execution_count": 28,
     "metadata": {},
     "output_type": "execute_result"
    }
   ],
   "source": [
    "#lista de dataframes\n",
    "len(df_arabica),len(df_robusta),len(df_acucar_1),len(df_acucar_2)"
   ]
  },
  {
   "cell_type": "code",
   "execution_count": 35,
   "id": "00986b75",
   "metadata": {},
   "outputs": [
    {
     "data": {
      "text/plain": [
       "(Index(['Index', 'Data', 'ValorReal', 'ValorDolar'], dtype='object'),\n",
       " Index(['Index', 'Data', 'ValorReal', 'ValorDolar'], dtype='object'))"
      ]
     },
     "execution_count": 35,
     "metadata": {},
     "output_type": "execute_result"
    }
   ],
   "source": [
    "df_arabica.columns,df_robusta.columns"
   ]
  },
  {
   "cell_type": "code",
   "execution_count": 41,
   "id": "558ee026",
   "metadata": {},
   "outputs": [
    {
     "data": {
      "text/html": [
       "<div>\n",
       "<style scoped>\n",
       "    .dataframe tbody tr th:only-of-type {\n",
       "        vertical-align: middle;\n",
       "    }\n",
       "\n",
       "    .dataframe tbody tr th {\n",
       "        vertical-align: top;\n",
       "    }\n",
       "\n",
       "    .dataframe thead th {\n",
       "        text-align: right;\n",
       "    }\n",
       "</style>\n",
       "<table border=\"1\" class=\"dataframe\">\n",
       "  <thead>\n",
       "    <tr style=\"text-align: right;\">\n",
       "      <th></th>\n",
       "      <th>Index</th>\n",
       "      <th>Data</th>\n",
       "      <th>ValorReal</th>\n",
       "      <th>ValorDolar</th>\n",
       "    </tr>\n",
       "  </thead>\n",
       "  <tbody>\n",
       "    <tr>\n",
       "      <th>0</th>\n",
       "      <td>1</td>\n",
       "      <td>08/11/2001</td>\n",
       "      <td>55.76</td>\n",
       "      <td>21.75</td>\n",
       "    </tr>\n",
       "    <tr>\n",
       "      <th>1</th>\n",
       "      <td>2</td>\n",
       "      <td>09/11/2001</td>\n",
       "      <td>56.02</td>\n",
       "      <td>22.06</td>\n",
       "    </tr>\n",
       "    <tr>\n",
       "      <th>2</th>\n",
       "      <td>3</td>\n",
       "      <td>12/11/2001</td>\n",
       "      <td>55.65</td>\n",
       "      <td>21.81</td>\n",
       "    </tr>\n",
       "    <tr>\n",
       "      <th>3</th>\n",
       "      <td>4</td>\n",
       "      <td>13/11/2001</td>\n",
       "      <td>55.61</td>\n",
       "      <td>22.05</td>\n",
       "    </tr>\n",
       "    <tr>\n",
       "      <th>4</th>\n",
       "      <td>5</td>\n",
       "      <td>14/11/2001</td>\n",
       "      <td>56.14</td>\n",
       "      <td>22.06</td>\n",
       "    </tr>\n",
       "  </tbody>\n",
       "</table>\n",
       "</div>"
      ],
      "text/plain": [
       "   Index        Data  ValorReal  ValorDolar\n",
       "0      1  08/11/2001      55.76       21.75\n",
       "1      2  09/11/2001      56.02       22.06\n",
       "2      3  12/11/2001      55.65       21.81\n",
       "3      4  13/11/2001      55.61       22.05\n",
       "4      5  14/11/2001      56.14       22.06"
      ]
     },
     "execution_count": 41,
     "metadata": {},
     "output_type": "execute_result"
    }
   ],
   "source": [
    "df_robusta.head()"
   ]
  },
  {
   "cell_type": "code",
   "execution_count": 46,
   "id": "9955c2ff",
   "metadata": {},
   "outputs": [
    {
     "data": {
      "text/html": [
       "<div>\n",
       "<style scoped>\n",
       "    .dataframe tbody tr th:only-of-type {\n",
       "        vertical-align: middle;\n",
       "    }\n",
       "\n",
       "    .dataframe tbody tr th {\n",
       "        vertical-align: top;\n",
       "    }\n",
       "\n",
       "    .dataframe thead th {\n",
       "        text-align: right;\n",
       "    }\n",
       "</style>\n",
       "<table border=\"1\" class=\"dataframe\">\n",
       "  <thead>\n",
       "    <tr style=\"text-align: right;\">\n",
       "      <th></th>\n",
       "      <th>Index</th>\n",
       "      <th>Data</th>\n",
       "      <th>ValorReal</th>\n",
       "      <th>ValorDolar</th>\n",
       "      <th>Data_</th>\n",
       "    </tr>\n",
       "  </thead>\n",
       "  <tbody>\n",
       "    <tr>\n",
       "      <th>0</th>\n",
       "      <td>1</td>\n",
       "      <td>08/11/2001</td>\n",
       "      <td>55.76</td>\n",
       "      <td>21.75</td>\n",
       "      <td>2001-11-08</td>\n",
       "    </tr>\n",
       "    <tr>\n",
       "      <th>1</th>\n",
       "      <td>2</td>\n",
       "      <td>09/11/2001</td>\n",
       "      <td>56.02</td>\n",
       "      <td>22.06</td>\n",
       "      <td>2001-11-09</td>\n",
       "    </tr>\n",
       "    <tr>\n",
       "      <th>2</th>\n",
       "      <td>3</td>\n",
       "      <td>12/11/2001</td>\n",
       "      <td>55.65</td>\n",
       "      <td>21.81</td>\n",
       "      <td>2001-11-12</td>\n",
       "    </tr>\n",
       "    <tr>\n",
       "      <th>3</th>\n",
       "      <td>4</td>\n",
       "      <td>13/11/2001</td>\n",
       "      <td>55.61</td>\n",
       "      <td>22.05</td>\n",
       "      <td>2001-11-13</td>\n",
       "    </tr>\n",
       "    <tr>\n",
       "      <th>4</th>\n",
       "      <td>5</td>\n",
       "      <td>14/11/2001</td>\n",
       "      <td>56.14</td>\n",
       "      <td>22.06</td>\n",
       "      <td>2001-11-14</td>\n",
       "    </tr>\n",
       "  </tbody>\n",
       "</table>\n",
       "</div>"
      ],
      "text/plain": [
       "   Index        Data  ValorReal  ValorDolar      Data_\n",
       "0      1  08/11/2001      55.76       21.75 2001-11-08\n",
       "1      2  09/11/2001      56.02       22.06 2001-11-09\n",
       "2      3  12/11/2001      55.65       21.81 2001-11-12\n",
       "3      4  13/11/2001      55.61       22.05 2001-11-13\n",
       "4      5  14/11/2001      56.14       22.06 2001-11-14"
      ]
     },
     "execution_count": 46,
     "metadata": {},
     "output_type": "execute_result"
    }
   ],
   "source": [
    "df_robusta['Data_'] = pd.to_datetime(df_robusta['Data'], format='%d/%m/%Y')\n",
    "df_robusta.head()"
   ]
  },
  {
   "cell_type": "code",
   "execution_count": 43,
   "id": "f681bea7",
   "metadata": {},
   "outputs": [
    {
     "data": {
      "text/plain": [
       "(Index           int64\n",
       " Data           object\n",
       " ValorReal     float64\n",
       " ValorDolar    float64\n",
       " dtype: object,\n",
       " Index           int64\n",
       " Data           object\n",
       " ValorReal     float64\n",
       " ValorDolar    float64\n",
       " dtype: object)"
      ]
     },
     "execution_count": 43,
     "metadata": {},
     "output_type": "execute_result"
    }
   ],
   "source": [
    "(df_robusta.dtypes,df_arabica.dtypes)"
   ]
  },
  {
   "cell_type": "code",
   "execution_count": 40,
   "id": "2edaeedd",
   "metadata": {},
   "outputs": [
    {
     "data": {
      "text/html": [
       "<div>\n",
       "<style scoped>\n",
       "    .dataframe tbody tr th:only-of-type {\n",
       "        vertical-align: middle;\n",
       "    }\n",
       "\n",
       "    .dataframe tbody tr th {\n",
       "        vertical-align: top;\n",
       "    }\n",
       "\n",
       "    .dataframe thead th {\n",
       "        text-align: right;\n",
       "    }\n",
       "</style>\n",
       "<table border=\"1\" class=\"dataframe\">\n",
       "  <thead>\n",
       "    <tr style=\"text-align: right;\">\n",
       "      <th></th>\n",
       "      <th>Index</th>\n",
       "      <th>Data</th>\n",
       "      <th>ValorReal</th>\n",
       "      <th>ValorDolar</th>\n",
       "    </tr>\n",
       "  </thead>\n",
       "  <tbody>\n",
       "    <tr>\n",
       "      <th>0</th>\n",
       "      <td>1</td>\n",
       "      <td>02/09/1996</td>\n",
       "      <td>123.09</td>\n",
       "      <td>121.15</td>\n",
       "    </tr>\n",
       "    <tr>\n",
       "      <th>1</th>\n",
       "      <td>2</td>\n",
       "      <td>03/09/1996</td>\n",
       "      <td>119.68</td>\n",
       "      <td>117.69</td>\n",
       "    </tr>\n",
       "    <tr>\n",
       "      <th>2</th>\n",
       "      <td>3</td>\n",
       "      <td>04/09/1996</td>\n",
       "      <td>119.39</td>\n",
       "      <td>117.44</td>\n",
       "    </tr>\n",
       "    <tr>\n",
       "      <th>3</th>\n",
       "      <td>4</td>\n",
       "      <td>05/09/1996</td>\n",
       "      <td>118.42</td>\n",
       "      <td>116.38</td>\n",
       "    </tr>\n",
       "    <tr>\n",
       "      <th>4</th>\n",
       "      <td>5</td>\n",
       "      <td>06/09/1996</td>\n",
       "      <td>118.09</td>\n",
       "      <td>115.98</td>\n",
       "    </tr>\n",
       "  </tbody>\n",
       "</table>\n",
       "</div>"
      ],
      "text/plain": [
       "   Index        Data  ValorReal  ValorDolar\n",
       "0      1  02/09/1996     123.09      121.15\n",
       "1      2  03/09/1996     119.68      117.69\n",
       "2      3  04/09/1996     119.39      117.44\n",
       "3      4  05/09/1996     118.42      116.38\n",
       "4      5  06/09/1996     118.09      115.98"
      ]
     },
     "execution_count": 40,
     "metadata": {},
     "output_type": "execute_result"
    }
   ],
   "source": [
    "df_arabica.head()"
   ]
  },
  {
   "cell_type": "code",
   "execution_count": 47,
   "id": "ecb84942",
   "metadata": {},
   "outputs": [
    {
     "data": {
      "text/html": [
       "<div>\n",
       "<style scoped>\n",
       "    .dataframe tbody tr th:only-of-type {\n",
       "        vertical-align: middle;\n",
       "    }\n",
       "\n",
       "    .dataframe tbody tr th {\n",
       "        vertical-align: top;\n",
       "    }\n",
       "\n",
       "    .dataframe thead th {\n",
       "        text-align: right;\n",
       "    }\n",
       "</style>\n",
       "<table border=\"1\" class=\"dataframe\">\n",
       "  <thead>\n",
       "    <tr style=\"text-align: right;\">\n",
       "      <th></th>\n",
       "      <th>Index</th>\n",
       "      <th>Data</th>\n",
       "      <th>ValorReal</th>\n",
       "      <th>ValorDolar</th>\n",
       "      <th>Data_</th>\n",
       "    </tr>\n",
       "  </thead>\n",
       "  <tbody>\n",
       "    <tr>\n",
       "      <th>0</th>\n",
       "      <td>1</td>\n",
       "      <td>02/09/1996</td>\n",
       "      <td>123.09</td>\n",
       "      <td>121.15</td>\n",
       "      <td>1996-09-02</td>\n",
       "    </tr>\n",
       "    <tr>\n",
       "      <th>1</th>\n",
       "      <td>2</td>\n",
       "      <td>03/09/1996</td>\n",
       "      <td>119.68</td>\n",
       "      <td>117.69</td>\n",
       "      <td>1996-09-03</td>\n",
       "    </tr>\n",
       "    <tr>\n",
       "      <th>2</th>\n",
       "      <td>3</td>\n",
       "      <td>04/09/1996</td>\n",
       "      <td>119.39</td>\n",
       "      <td>117.44</td>\n",
       "      <td>1996-09-04</td>\n",
       "    </tr>\n",
       "    <tr>\n",
       "      <th>3</th>\n",
       "      <td>4</td>\n",
       "      <td>05/09/1996</td>\n",
       "      <td>118.42</td>\n",
       "      <td>116.38</td>\n",
       "      <td>1996-09-05</td>\n",
       "    </tr>\n",
       "    <tr>\n",
       "      <th>4</th>\n",
       "      <td>5</td>\n",
       "      <td>06/09/1996</td>\n",
       "      <td>118.09</td>\n",
       "      <td>115.98</td>\n",
       "      <td>1996-09-06</td>\n",
       "    </tr>\n",
       "  </tbody>\n",
       "</table>\n",
       "</div>"
      ],
      "text/plain": [
       "   Index        Data  ValorReal  ValorDolar      Data_\n",
       "0      1  02/09/1996     123.09      121.15 1996-09-02\n",
       "1      2  03/09/1996     119.68      117.69 1996-09-03\n",
       "2      3  04/09/1996     119.39      117.44 1996-09-04\n",
       "3      4  05/09/1996     118.42      116.38 1996-09-05\n",
       "4      5  06/09/1996     118.09      115.98 1996-09-06"
      ]
     },
     "execution_count": 47,
     "metadata": {},
     "output_type": "execute_result"
    }
   ],
   "source": [
    "df_arabica['Data_'] = pd.to_datetime(df_arabica['Data'], format='%d/%m/%Y')\n",
    "df_arabica.head()"
   ]
  },
  {
   "cell_type": "code",
   "execution_count": 48,
   "id": "004c1eda",
   "metadata": {},
   "outputs": [
    {
     "data": {
      "text/plain": [
       "(Index                  int64\n",
       " Data                  object\n",
       " ValorReal            float64\n",
       " ValorDolar           float64\n",
       " Data_         datetime64[ns]\n",
       " dtype: object,\n",
       " Index                  int64\n",
       " Data                  object\n",
       " ValorReal            float64\n",
       " ValorDolar           float64\n",
       " Data_         datetime64[ns]\n",
       " dtype: object)"
      ]
     },
     "execution_count": 48,
     "metadata": {},
     "output_type": "execute_result"
    }
   ],
   "source": [
    "(df_robusta.dtypes,df_arabica.dtypes)"
   ]
  },
  {
   "cell_type": "code",
   "execution_count": 62,
   "id": "309cd2f4",
   "metadata": {},
   "outputs": [],
   "source": [
    "df_total = pd.merge(df_arabica, df_robusta, on='Data_', how='left',suffixes=['CafeArabica','CafeRobusta'])"
   ]
  },
  {
   "cell_type": "code",
   "execution_count": 64,
   "id": "aae4bd5f",
   "metadata": {},
   "outputs": [
    {
     "data": {
      "text/html": [
       "<div>\n",
       "<style scoped>\n",
       "    .dataframe tbody tr th:only-of-type {\n",
       "        vertical-align: middle;\n",
       "    }\n",
       "\n",
       "    .dataframe tbody tr th {\n",
       "        vertical-align: top;\n",
       "    }\n",
       "\n",
       "    .dataframe thead th {\n",
       "        text-align: right;\n",
       "    }\n",
       "</style>\n",
       "<table border=\"1\" class=\"dataframe\">\n",
       "  <thead>\n",
       "    <tr style=\"text-align: right;\">\n",
       "      <th></th>\n",
       "      <th>IndexCafeArabica</th>\n",
       "      <th>DataCafeArabica</th>\n",
       "      <th>ValorRealCafeArabica</th>\n",
       "      <th>ValorDolarCafeArabica</th>\n",
       "      <th>Data_</th>\n",
       "      <th>IndexCafeRobusta</th>\n",
       "      <th>DataCafeRobusta</th>\n",
       "      <th>ValorRealCafeRobusta</th>\n",
       "      <th>ValorDolarCafeRobusta</th>\n",
       "    </tr>\n",
       "  </thead>\n",
       "  <tbody>\n",
       "    <tr>\n",
       "      <th>1401</th>\n",
       "      <td>1402</td>\n",
       "      <td>03/05/2002</td>\n",
       "      <td>107.74</td>\n",
       "      <td>44.73</td>\n",
       "      <td>2002-05-03</td>\n",
       "      <td>118.0</td>\n",
       "      <td>03/05/2002</td>\n",
       "      <td>57.49</td>\n",
       "      <td>23.86</td>\n",
       "    </tr>\n",
       "    <tr>\n",
       "      <th>5062</th>\n",
       "      <td>5063</td>\n",
       "      <td>04/01/2017</td>\n",
       "      <td>491.74</td>\n",
       "      <td>152.62</td>\n",
       "      <td>2017-01-04</td>\n",
       "      <td>3729.0</td>\n",
       "      <td>04/01/2017</td>\n",
       "      <td>493.44</td>\n",
       "      <td>153.15</td>\n",
       "    </tr>\n",
       "    <tr>\n",
       "      <th>2324</th>\n",
       "      <td>2325</td>\n",
       "      <td>10/01/2006</td>\n",
       "      <td>288.58</td>\n",
       "      <td>127.52</td>\n",
       "      <td>2006-01-10</td>\n",
       "      <td>1041.0</td>\n",
       "      <td>10/01/2006</td>\n",
       "      <td>173.08</td>\n",
       "      <td>76.48</td>\n",
       "    </tr>\n",
       "    <tr>\n",
       "      <th>5006</th>\n",
       "      <td>5007</td>\n",
       "      <td>13/10/2016</td>\n",
       "      <td>498.77</td>\n",
       "      <td>156.90</td>\n",
       "      <td>2016-10-13</td>\n",
       "      <td>3673.0</td>\n",
       "      <td>13/10/2016</td>\n",
       "      <td>487.93</td>\n",
       "      <td>153.49</td>\n",
       "    </tr>\n",
       "    <tr>\n",
       "      <th>1523</th>\n",
       "      <td>1524</td>\n",
       "      <td>24/10/2002</td>\n",
       "      <td>187.62</td>\n",
       "      <td>49.37</td>\n",
       "      <td>2002-10-24</td>\n",
       "      <td>240.0</td>\n",
       "      <td>24/10/2002</td>\n",
       "      <td>123.76</td>\n",
       "      <td>32.57</td>\n",
       "    </tr>\n",
       "  </tbody>\n",
       "</table>\n",
       "</div>"
      ],
      "text/plain": [
       "      IndexCafeArabica DataCafeArabica  ValorRealCafeArabica  \\\n",
       "1401              1402      03/05/2002                107.74   \n",
       "5062              5063      04/01/2017                491.74   \n",
       "2324              2325      10/01/2006                288.58   \n",
       "5006              5007      13/10/2016                498.77   \n",
       "1523              1524      24/10/2002                187.62   \n",
       "\n",
       "      ValorDolarCafeArabica      Data_  IndexCafeRobusta DataCafeRobusta  \\\n",
       "1401                  44.73 2002-05-03             118.0      03/05/2002   \n",
       "5062                 152.62 2017-01-04            3729.0      04/01/2017   \n",
       "2324                 127.52 2006-01-10            1041.0      10/01/2006   \n",
       "5006                 156.90 2016-10-13            3673.0      13/10/2016   \n",
       "1523                  49.37 2002-10-24             240.0      24/10/2002   \n",
       "\n",
       "      ValorRealCafeRobusta  ValorDolarCafeRobusta  \n",
       "1401                 57.49                  23.86  \n",
       "5062                493.44                 153.15  \n",
       "2324                173.08                  76.48  \n",
       "5006                487.93                 153.49  \n",
       "1523                123.76                  32.57  "
      ]
     },
     "execution_count": 64,
     "metadata": {},
     "output_type": "execute_result"
    }
   ],
   "source": [
    "df_total.sample(5)"
   ]
  },
  {
   "cell_type": "code",
   "execution_count": 65,
   "id": "a597289d",
   "metadata": {},
   "outputs": [
    {
     "data": {
      "text/plain": [
       "Index(['IndexCafeArabica', 'DataCafeArabica', 'ValorRealCafeArabica',\n",
       "       'ValorDolarCafeArabica', 'Data_', 'IndexCafeRobusta', 'DataCafeRobusta',\n",
       "       'ValorRealCafeRobusta', 'ValorDolarCafeRobusta'],\n",
       "      dtype='object')"
      ]
     },
     "execution_count": 65,
     "metadata": {},
     "output_type": "execute_result"
    }
   ],
   "source": [
    "df_total.columns"
   ]
  },
  {
   "cell_type": "code",
   "execution_count": 66,
   "id": "f6ce63a0",
   "metadata": {},
   "outputs": [],
   "source": [
    "df_total = df_total[['Data_', 'ValorRealCafeArabica','ValorDolarCafeArabica', 'ValorRealCafeRobusta', 'ValorDolarCafeRobusta']]"
   ]
  },
  {
   "cell_type": "code",
   "execution_count": 67,
   "id": "a89d3ea7",
   "metadata": {},
   "outputs": [
    {
     "data": {
      "text/html": [
       "<div>\n",
       "<style scoped>\n",
       "    .dataframe tbody tr th:only-of-type {\n",
       "        vertical-align: middle;\n",
       "    }\n",
       "\n",
       "    .dataframe tbody tr th {\n",
       "        vertical-align: top;\n",
       "    }\n",
       "\n",
       "    .dataframe thead th {\n",
       "        text-align: right;\n",
       "    }\n",
       "</style>\n",
       "<table border=\"1\" class=\"dataframe\">\n",
       "  <thead>\n",
       "    <tr style=\"text-align: right;\">\n",
       "      <th></th>\n",
       "      <th>Data_</th>\n",
       "      <th>ValorRealCafeArabica</th>\n",
       "      <th>ValorDolarCafeArabica</th>\n",
       "      <th>ValorRealCafeRobusta</th>\n",
       "      <th>ValorDolarCafeRobusta</th>\n",
       "    </tr>\n",
       "  </thead>\n",
       "  <tbody>\n",
       "    <tr>\n",
       "      <th>6098</th>\n",
       "      <td>2021-03-05</td>\n",
       "      <td>735.85</td>\n",
       "      <td>129.23</td>\n",
       "      <td>450.44</td>\n",
       "      <td>79.11</td>\n",
       "    </tr>\n",
       "    <tr>\n",
       "      <th>4575</th>\n",
       "      <td>2015-01-21</td>\n",
       "      <td>447.34</td>\n",
       "      <td>171.66</td>\n",
       "      <td>283.89</td>\n",
       "      <td>108.94</td>\n",
       "    </tr>\n",
       "    <tr>\n",
       "      <th>1969</th>\n",
       "      <td>2004-08-09</td>\n",
       "      <td>198.36</td>\n",
       "      <td>65.25</td>\n",
       "      <td>129.58</td>\n",
       "      <td>42.62</td>\n",
       "    </tr>\n",
       "    <tr>\n",
       "      <th>5404</th>\n",
       "      <td>2018-05-22</td>\n",
       "      <td>455.47</td>\n",
       "      <td>125.13</td>\n",
       "      <td>336.60</td>\n",
       "      <td>92.47</td>\n",
       "    </tr>\n",
       "    <tr>\n",
       "      <th>2324</th>\n",
       "      <td>2006-01-10</td>\n",
       "      <td>288.58</td>\n",
       "      <td>127.52</td>\n",
       "      <td>173.08</td>\n",
       "      <td>76.48</td>\n",
       "    </tr>\n",
       "  </tbody>\n",
       "</table>\n",
       "</div>"
      ],
      "text/plain": [
       "          Data_  ValorRealCafeArabica  ValorDolarCafeArabica  \\\n",
       "6098 2021-03-05                735.85                 129.23   \n",
       "4575 2015-01-21                447.34                 171.66   \n",
       "1969 2004-08-09                198.36                  65.25   \n",
       "5404 2018-05-22                455.47                 125.13   \n",
       "2324 2006-01-10                288.58                 127.52   \n",
       "\n",
       "      ValorRealCafeRobusta  ValorDolarCafeRobusta  \n",
       "6098                450.44                  79.11  \n",
       "4575                283.89                 108.94  \n",
       "1969                129.58                  42.62  \n",
       "5404                336.60                  92.47  \n",
       "2324                173.08                  76.48  "
      ]
     },
     "execution_count": 67,
     "metadata": {},
     "output_type": "execute_result"
    }
   ],
   "source": [
    "df_total.sample(5)"
   ]
  },
  {
   "cell_type": "code",
   "execution_count": 68,
   "id": "2ae7381f",
   "metadata": {},
   "outputs": [],
   "source": [
    "df_total.columns = ['Data', 'CafeArabica_R','CafeArabica_D', 'CafeRobusta_R', 'CafeRobusta_D']"
   ]
  },
  {
   "cell_type": "code",
   "execution_count": 69,
   "id": "5cfab56d",
   "metadata": {},
   "outputs": [
    {
     "data": {
      "text/html": [
       "<div>\n",
       "<style scoped>\n",
       "    .dataframe tbody tr th:only-of-type {\n",
       "        vertical-align: middle;\n",
       "    }\n",
       "\n",
       "    .dataframe tbody tr th {\n",
       "        vertical-align: top;\n",
       "    }\n",
       "\n",
       "    .dataframe thead th {\n",
       "        text-align: right;\n",
       "    }\n",
       "</style>\n",
       "<table border=\"1\" class=\"dataframe\">\n",
       "  <thead>\n",
       "    <tr style=\"text-align: right;\">\n",
       "      <th></th>\n",
       "      <th>Data</th>\n",
       "      <th>CafeArabica_R</th>\n",
       "      <th>CafeArabica_D</th>\n",
       "      <th>CafeRobusta_R</th>\n",
       "      <th>CafeRobusta_D</th>\n",
       "    </tr>\n",
       "  </thead>\n",
       "  <tbody>\n",
       "    <tr>\n",
       "      <th>4078</th>\n",
       "      <td>2013-01-28</td>\n",
       "      <td>338.56</td>\n",
       "      <td>169.11</td>\n",
       "      <td>273.94</td>\n",
       "      <td>136.83</td>\n",
       "    </tr>\n",
       "    <tr>\n",
       "      <th>4358</th>\n",
       "      <td>2014-03-12</td>\n",
       "      <td>483.97</td>\n",
       "      <td>205.07</td>\n",
       "      <td>278.00</td>\n",
       "      <td>117.80</td>\n",
       "    </tr>\n",
       "    <tr>\n",
       "      <th>2656</th>\n",
       "      <td>2007-05-14</td>\n",
       "      <td>229.49</td>\n",
       "      <td>114.23</td>\n",
       "      <td>187.13</td>\n",
       "      <td>93.14</td>\n",
       "    </tr>\n",
       "    <tr>\n",
       "      <th>6441</th>\n",
       "      <td>2022-07-19</td>\n",
       "      <td>1318.67</td>\n",
       "      <td>243.30</td>\n",
       "      <td>719.25</td>\n",
       "      <td>132.70</td>\n",
       "    </tr>\n",
       "    <tr>\n",
       "      <th>3566</th>\n",
       "      <td>2011-01-10</td>\n",
       "      <td>424.99</td>\n",
       "      <td>251.62</td>\n",
       "      <td>203.52</td>\n",
       "      <td>120.50</td>\n",
       "    </tr>\n",
       "  </tbody>\n",
       "</table>\n",
       "</div>"
      ],
      "text/plain": [
       "           Data  CafeArabica_R  CafeArabica_D  CafeRobusta_R  CafeRobusta_D\n",
       "4078 2013-01-28         338.56         169.11         273.94         136.83\n",
       "4358 2014-03-12         483.97         205.07         278.00         117.80\n",
       "2656 2007-05-14         229.49         114.23         187.13          93.14\n",
       "6441 2022-07-19        1318.67         243.30         719.25         132.70\n",
       "3566 2011-01-10         424.99         251.62         203.52         120.50"
      ]
     },
     "execution_count": 69,
     "metadata": {},
     "output_type": "execute_result"
    }
   ],
   "source": [
    "df_total.sample(5)"
   ]
  },
  {
   "cell_type": "code",
   "execution_count": 70,
   "id": "41f68b20",
   "metadata": {},
   "outputs": [
    {
     "data": {
      "text/plain": [
       "(6665, 5)"
      ]
     },
     "execution_count": 70,
     "metadata": {},
     "output_type": "execute_result"
    }
   ],
   "source": [
    "df_total.shape"
   ]
  },
  {
   "cell_type": "code",
   "execution_count": 71,
   "id": "293e63a3",
   "metadata": {},
   "outputs": [],
   "source": [
    "df_total['Index'] = range(1, len(df_total) + 1)"
   ]
  },
  {
   "cell_type": "code",
   "execution_count": 72,
   "id": "a9513712",
   "metadata": {},
   "outputs": [
    {
     "data": {
      "text/html": [
       "<div>\n",
       "<style scoped>\n",
       "    .dataframe tbody tr th:only-of-type {\n",
       "        vertical-align: middle;\n",
       "    }\n",
       "\n",
       "    .dataframe tbody tr th {\n",
       "        vertical-align: top;\n",
       "    }\n",
       "\n",
       "    .dataframe thead th {\n",
       "        text-align: right;\n",
       "    }\n",
       "</style>\n",
       "<table border=\"1\" class=\"dataframe\">\n",
       "  <thead>\n",
       "    <tr style=\"text-align: right;\">\n",
       "      <th></th>\n",
       "      <th>Data</th>\n",
       "      <th>CafeArabica_R</th>\n",
       "      <th>CafeArabica_D</th>\n",
       "      <th>CafeRobusta_R</th>\n",
       "      <th>CafeRobusta_D</th>\n",
       "      <th>Index</th>\n",
       "    </tr>\n",
       "  </thead>\n",
       "  <tbody>\n",
       "    <tr>\n",
       "      <th>878</th>\n",
       "      <td>2000-03-23</td>\n",
       "      <td>188.08</td>\n",
       "      <td>109.35</td>\n",
       "      <td>NaN</td>\n",
       "      <td>NaN</td>\n",
       "      <td>879</td>\n",
       "    </tr>\n",
       "    <tr>\n",
       "      <th>5936</th>\n",
       "      <td>2020-07-09</td>\n",
       "      <td>492.33</td>\n",
       "      <td>92.27</td>\n",
       "      <td>348.18</td>\n",
       "      <td>65.25</td>\n",
       "      <td>5937</td>\n",
       "    </tr>\n",
       "    <tr>\n",
       "      <th>1344</th>\n",
       "      <td>2002-02-07</td>\n",
       "      <td>111.24</td>\n",
       "      <td>45.16</td>\n",
       "      <td>48.53</td>\n",
       "      <td>19.70</td>\n",
       "      <td>1345</td>\n",
       "    </tr>\n",
       "    <tr>\n",
       "      <th>4949</th>\n",
       "      <td>2016-07-22</td>\n",
       "      <td>485.45</td>\n",
       "      <td>148.91</td>\n",
       "      <td>414.95</td>\n",
       "      <td>127.29</td>\n",
       "      <td>4950</td>\n",
       "    </tr>\n",
       "    <tr>\n",
       "      <th>552</th>\n",
       "      <td>1998-11-25</td>\n",
       "      <td>133.40</td>\n",
       "      <td>111.22</td>\n",
       "      <td>NaN</td>\n",
       "      <td>NaN</td>\n",
       "      <td>553</td>\n",
       "    </tr>\n",
       "  </tbody>\n",
       "</table>\n",
       "</div>"
      ],
      "text/plain": [
       "           Data  CafeArabica_R  CafeArabica_D  CafeRobusta_R  CafeRobusta_D  \\\n",
       "878  2000-03-23         188.08         109.35            NaN            NaN   \n",
       "5936 2020-07-09         492.33          92.27         348.18          65.25   \n",
       "1344 2002-02-07         111.24          45.16          48.53          19.70   \n",
       "4949 2016-07-22         485.45         148.91         414.95         127.29   \n",
       "552  1998-11-25         133.40         111.22            NaN            NaN   \n",
       "\n",
       "      Index  \n",
       "878     879  \n",
       "5936   5937  \n",
       "1344   1345  \n",
       "4949   4950  \n",
       "552     553  "
      ]
     },
     "execution_count": 72,
     "metadata": {},
     "output_type": "execute_result"
    }
   ],
   "source": [
    "df_total.sample(5)"
   ]
  },
  {
   "cell_type": "code",
   "execution_count": 73,
   "id": "9471175a",
   "metadata": {},
   "outputs": [],
   "source": [
    "import numpy as np"
   ]
  },
  {
   "cell_type": "code",
   "execution_count": 77,
   "id": "80318e30",
   "metadata": {},
   "outputs": [],
   "source": [
    "df_total['CafeRobusta_R'] = df_total['CafeRobusta_R'].fillna(0)\n",
    "df_total['CafeRobusta_D'] = df_total['CafeRobusta_D'].fillna(0)"
   ]
  },
  {
   "cell_type": "code",
   "execution_count": 78,
   "id": "11b1d812",
   "metadata": {},
   "outputs": [
    {
     "data": {
      "text/html": [
       "<div>\n",
       "<style scoped>\n",
       "    .dataframe tbody tr th:only-of-type {\n",
       "        vertical-align: middle;\n",
       "    }\n",
       "\n",
       "    .dataframe tbody tr th {\n",
       "        vertical-align: top;\n",
       "    }\n",
       "\n",
       "    .dataframe thead th {\n",
       "        text-align: right;\n",
       "    }\n",
       "</style>\n",
       "<table border=\"1\" class=\"dataframe\">\n",
       "  <thead>\n",
       "    <tr style=\"text-align: right;\">\n",
       "      <th></th>\n",
       "      <th>Data</th>\n",
       "      <th>CafeArabica_R</th>\n",
       "      <th>CafeArabica_D</th>\n",
       "      <th>CafeRobusta_R</th>\n",
       "      <th>CafeRobusta_D</th>\n",
       "      <th>Index</th>\n",
       "    </tr>\n",
       "  </thead>\n",
       "  <tbody>\n",
       "    <tr>\n",
       "      <th>4357</th>\n",
       "      <td>2014-03-11</td>\n",
       "      <td>485.01</td>\n",
       "      <td>205.25</td>\n",
       "      <td>274.75</td>\n",
       "      <td>116.27</td>\n",
       "      <td>4358</td>\n",
       "    </tr>\n",
       "    <tr>\n",
       "      <th>174</th>\n",
       "      <td>1997-05-21</td>\n",
       "      <td>255.02</td>\n",
       "      <td>238.65</td>\n",
       "      <td>0.00</td>\n",
       "      <td>0.00</td>\n",
       "      <td>175</td>\n",
       "    </tr>\n",
       "    <tr>\n",
       "      <th>6231</th>\n",
       "      <td>2021-09-14</td>\n",
       "      <td>1063.09</td>\n",
       "      <td>202.07</td>\n",
       "      <td>745.89</td>\n",
       "      <td>141.78</td>\n",
       "      <td>6232</td>\n",
       "    </tr>\n",
       "    <tr>\n",
       "      <th>5193</th>\n",
       "      <td>2017-07-14</td>\n",
       "      <td>455.56</td>\n",
       "      <td>143.21</td>\n",
       "      <td>410.11</td>\n",
       "      <td>128.93</td>\n",
       "      <td>5194</td>\n",
       "    </tr>\n",
       "    <tr>\n",
       "      <th>5943</th>\n",
       "      <td>2020-07-20</td>\n",
       "      <td>495.50</td>\n",
       "      <td>92.89</td>\n",
       "      <td>354.75</td>\n",
       "      <td>66.51</td>\n",
       "      <td>5944</td>\n",
       "    </tr>\n",
       "  </tbody>\n",
       "</table>\n",
       "</div>"
      ],
      "text/plain": [
       "           Data  CafeArabica_R  CafeArabica_D  CafeRobusta_R  CafeRobusta_D  \\\n",
       "4357 2014-03-11         485.01         205.25         274.75         116.27   \n",
       "174  1997-05-21         255.02         238.65           0.00           0.00   \n",
       "6231 2021-09-14        1063.09         202.07         745.89         141.78   \n",
       "5193 2017-07-14         455.56         143.21         410.11         128.93   \n",
       "5943 2020-07-20         495.50          92.89         354.75          66.51   \n",
       "\n",
       "      Index  \n",
       "4357   4358  \n",
       "174     175  \n",
       "6231   6232  \n",
       "5193   5194  \n",
       "5943   5944  "
      ]
     },
     "execution_count": 78,
     "metadata": {},
     "output_type": "execute_result"
    }
   ],
   "source": [
    "df_total.sample(5)"
   ]
  },
  {
   "cell_type": "code",
   "execution_count": 96,
   "id": "3e4f2ed5",
   "metadata": {},
   "outputs": [
    {
     "ename": "NameError",
     "evalue": "name 'auto' is not defined",
     "output_type": "error",
     "traceback": [
      "\u001b[1;31m---------------------------------------------------------------------------\u001b[0m",
      "\u001b[1;31mNameError\u001b[0m                                 Traceback (most recent call last)",
      "Input \u001b[1;32mIn [96]\u001b[0m, in \u001b[0;36m<cell line: 2>\u001b[1;34m()\u001b[0m\n\u001b[0;32m      1\u001b[0m plt\u001b[38;5;241m.\u001b[39mrcParams[\u001b[38;5;124m\"\u001b[39m\u001b[38;5;124mfigure.figsize\u001b[39m\u001b[38;5;124m\"\u001b[39m] \u001b[38;5;241m=\u001b[39m (\u001b[38;5;241m30\u001b[39m,\u001b[38;5;241m3\u001b[39m)\n\u001b[1;32m----> 2\u001b[0m ax1 \u001b[38;5;241m=\u001b[39m df_total\u001b[38;5;241m.\u001b[39mplot(kind\u001b[38;5;241m=\u001b[39m\u001b[38;5;124m'\u001b[39m\u001b[38;5;124mscatter\u001b[39m\u001b[38;5;124m'\u001b[39m, x\u001b[38;5;241m=\u001b[39m\u001b[38;5;124m'\u001b[39m\u001b[38;5;124mIndex\u001b[39m\u001b[38;5;124m'\u001b[39m, y\u001b[38;5;241m=\u001b[39m\u001b[38;5;124m'\u001b[39m\u001b[38;5;124mCafeArabica_D\u001b[39m\u001b[38;5;124m'\u001b[39m, color\u001b[38;5;241m=\u001b[39m\u001b[38;5;124m'\u001b[39m\u001b[38;5;124mb\u001b[39m\u001b[38;5;124m'\u001b[39m,lw\u001b[38;5;241m=\u001b[39m\u001b[43mauto\u001b[49m)    \n\u001b[0;32m      3\u001b[0m ax2 \u001b[38;5;241m=\u001b[39m df_total\u001b[38;5;241m.\u001b[39mplot(kind\u001b[38;5;241m=\u001b[39m\u001b[38;5;124m'\u001b[39m\u001b[38;5;124mscatter\u001b[39m\u001b[38;5;124m'\u001b[39m, x\u001b[38;5;241m=\u001b[39m\u001b[38;5;124m'\u001b[39m\u001b[38;5;124mIndex\u001b[39m\u001b[38;5;124m'\u001b[39m, y\u001b[38;5;241m=\u001b[39m\u001b[38;5;124m'\u001b[39m\u001b[38;5;124mCafeRobusta_D\u001b[39m\u001b[38;5;124m'\u001b[39m, color\u001b[38;5;241m=\u001b[39m\u001b[38;5;124m'\u001b[39m\u001b[38;5;124mg\u001b[39m\u001b[38;5;124m'\u001b[39m, ax\u001b[38;5;241m=\u001b[39max1,lw\u001b[38;5;241m=\u001b[39m\u001b[38;5;241m1\u001b[39m)\n",
      "\u001b[1;31mNameError\u001b[0m: name 'auto' is not defined"
     ]
    }
   ],
   "source": [
    "plt.rcParams[\"figure.figsize\"] = (30,3)\n",
    "ax1 = df_total.plot(kind='scatter', x='Index', y='CafeArabica_D', color='b',lw=auto)    \n",
    "ax2 = df_total.plot(kind='scatter', x='Index', y='CafeRobusta_D', color='g', ax=ax1,lw=1)"
   ]
  },
  {
   "cell_type": "code",
   "execution_count": null,
   "id": "c330724b",
   "metadata": {},
   "outputs": [],
   "source": []
  }
 ],
 "metadata": {
  "kernelspec": {
   "display_name": "Python 3 (ipykernel)",
   "language": "python",
   "name": "python3"
  },
  "language_info": {
   "codemirror_mode": {
    "name": "ipython",
    "version": 3
   },
   "file_extension": ".py",
   "mimetype": "text/x-python",
   "name": "python",
   "nbconvert_exporter": "python",
   "pygments_lexer": "ipython3",
   "version": "3.9.12"
  }
 },
 "nbformat": 4,
 "nbformat_minor": 5
}
