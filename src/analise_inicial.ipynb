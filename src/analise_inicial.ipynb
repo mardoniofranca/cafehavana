{
 "cells": [
  {
   "cell_type": "markdown",
   "id": "ae62234c",
   "metadata": {},
   "source": [
    "## Um Cafezinho para começar"
   ]
  },
  {
   "cell_type": "markdown",
   "id": "40bcbf20",
   "metadata": {},
   "source": [
    "<img src=\"../img/cafe_1.png\" style=\"height: 300px;\" align=\"left\"/>"
   ]
  },
  {
   "cell_type": "markdown",
   "id": "9bde108f",
   "metadata": {},
   "source": [
    "###  Análise Inicial sobre Serie Temporais"
   ]
  },
  {
   "cell_type": "markdown",
   "id": "62ea3441",
   "metadata": {},
   "source": [
    "<b> 1. Introdução: </b>\n",
    "\n",
    "<b> 1.1. Problema: </b>\n",
    "\n",
    "A partir de uma série temporal disponibiliza pelo artigo de \"MODELAGEM POR SÉRIES TEMPORAIS DO PREÇO FUTURO DE CAFÉ\" de Autoria de  Welison L. SOARES; Brenda P. F. PERNA; Katia A. CAMPOS foi feito uma análise inicial para o testes de modelo de aprendizagem de máquinas \n",
    "\n",
    "<b> 1.2. Dataset: </b>\n",
    "\n",
    "Este dataset apresenta 12 linhas e 8 colunas\n",
    "\n",
    "<b> 1.3. Objetivo: </b>\n",
    "    \n",
    "Executar todas as fases de um modelo de aprendizagem de máquinas supervisionado, especificamente, um modelo de Regressão e testar a acurácia do model proposto, evidenciar ajustes e melhoramentos     "
   ]
  },
  {
   "cell_type": "markdown",
   "id": "feb7d925",
   "metadata": {},
   "source": [
    "<b> 2. Sobre os Dados </b>\n",
    "<b> 2.1 Tabela de Dados (origem do Dataset): </b>\n",
    "\n",
    "<img src=\"../img/tabela1.png\" style=\"height: 300px;\" align=\"left\"/>"
   ]
  },
  {
   "cell_type": "markdown",
   "id": "ac7d611c",
   "metadata": {},
   "source": [
    "<b> 3. Codificação </b>"
   ]
  },
  {
   "cell_type": "markdown",
   "id": "559046c7",
   "metadata": {},
   "source": [
    "Iremos seguir esse pipeline, com exceção da fase da Análise Explanatória"
   ]
  },
  {
   "cell_type": "markdown",
   "id": "4ce1a836",
   "metadata": {},
   "source": [
    "<img src=\"../img/pipeline.png\" style=\"height: 500px;\" align=\"left\"/>"
   ]
  },
  {
   "cell_type": "markdown",
   "id": "ee5340c8",
   "metadata": {},
   "source": [
    "<b> 3.1. Importação das Bibliotecas </b>"
   ]
  },
  {
   "cell_type": "code",
   "execution_count": 4,
   "id": "edf73702",
   "metadata": {},
   "outputs": [],
   "source": [
    "import pandas as pd"
   ]
  },
  {
   "cell_type": "code",
   "execution_count": 5,
   "id": "9af551be",
   "metadata": {},
   "outputs": [],
   "source": [
    "from sklearn.preprocessing import StandardScaler\n",
    "from sklearn import preprocessing\n",
    "from sklearn.linear_model import LinearRegression\n",
    "from sklearn.metrics import mean_squared_error\n",
    "from sklearn.discriminant_analysis import LinearDiscriminantAnalysis\n",
    "from sklearn.neighbors import KNeighborsClassifier\n",
    "from sklearn.naive_bayes import GaussianNB\n",
    "from sklearn.tree import DecisionTreeClassifier\n",
    "from sklearn.svm import SVC\n",
    "from sklearn.metrics import classification_report\n",
    "from sklearn.metrics import confusion_matrix\n",
    "from sklearn.metrics import accuracy_score\n",
    "from sklearn.neighbors import KNeighborsClassifier\n",
    "from sklearn.svm import SVC"
   ]
  },
  {
   "cell_type": "markdown",
   "id": "f9bcd202",
   "metadata": {},
   "source": [
    "<b> 1.2 Leitura dos Dados </b>"
   ]
  },
  {
   "cell_type": "code",
   "execution_count": 6,
   "id": "7edc5027",
   "metadata": {},
   "outputs": [],
   "source": [
    "df = pd.read_csv('../data/data.csv')"
   ]
  },
  {
   "cell_type": "code",
   "execution_count": 7,
   "id": "c412e097",
   "metadata": {},
   "outputs": [
    {
     "data": {
      "text/html": [
       "<div>\n",
       "<style scoped>\n",
       "    .dataframe tbody tr th:only-of-type {\n",
       "        vertical-align: middle;\n",
       "    }\n",
       "\n",
       "    .dataframe tbody tr th {\n",
       "        vertical-align: top;\n",
       "    }\n",
       "\n",
       "    .dataframe thead th {\n",
       "        text-align: right;\n",
       "    }\n",
       "</style>\n",
       "<table border=\"1\" class=\"dataframe\">\n",
       "  <thead>\n",
       "    <tr style=\"text-align: right;\">\n",
       "      <th></th>\n",
       "      <th>i</th>\n",
       "      <th>index</th>\n",
       "      <th>mes</th>\n",
       "      <th>P1</th>\n",
       "      <th>desvio_padrao</th>\n",
       "      <th>valor_min</th>\n",
       "      <th>valor_max</th>\n",
       "      <th>valor_medio</th>\n",
       "      <th>diferenca</th>\n",
       "    </tr>\n",
       "  </thead>\n",
       "  <tbody>\n",
       "    <tr>\n",
       "      <th>0</th>\n",
       "      <td>1</td>\n",
       "      <td>1</td>\n",
       "      <td>Jan</td>\n",
       "      <td>32.125</td>\n",
       "      <td>34.686</td>\n",
       "      <td>-2.561</td>\n",
       "      <td>66.812</td>\n",
       "      <td>101.273</td>\n",
       "      <td>69.148</td>\n",
       "    </tr>\n",
       "    <tr>\n",
       "      <th>1</th>\n",
       "      <td>1</td>\n",
       "      <td>3</td>\n",
       "      <td>Fev</td>\n",
       "      <td>37.017</td>\n",
       "      <td>43.279</td>\n",
       "      <td>-6.262</td>\n",
       "      <td>80.295</td>\n",
       "      <td>101.250</td>\n",
       "      <td>64.234</td>\n",
       "    </tr>\n",
       "    <tr>\n",
       "      <th>2</th>\n",
       "      <td>1</td>\n",
       "      <td>5</td>\n",
       "      <td>Mar</td>\n",
       "      <td>35.718</td>\n",
       "      <td>50.956</td>\n",
       "      <td>-15.238</td>\n",
       "      <td>86.674</td>\n",
       "      <td>50.723</td>\n",
       "      <td>15.005</td>\n",
       "    </tr>\n",
       "    <tr>\n",
       "      <th>3</th>\n",
       "      <td>1</td>\n",
       "      <td>6</td>\n",
       "      <td>Abr</td>\n",
       "      <td>42.889</td>\n",
       "      <td>44.501</td>\n",
       "      <td>-1.611</td>\n",
       "      <td>87.390</td>\n",
       "      <td>53.278</td>\n",
       "      <td>10.389</td>\n",
       "    </tr>\n",
       "    <tr>\n",
       "      <th>4</th>\n",
       "      <td>1</td>\n",
       "      <td>7</td>\n",
       "      <td>Mai</td>\n",
       "      <td>45.724</td>\n",
       "      <td>41.387</td>\n",
       "      <td>4.337</td>\n",
       "      <td>87.111</td>\n",
       "      <td>53.297</td>\n",
       "      <td>7.573</td>\n",
       "    </tr>\n",
       "  </tbody>\n",
       "</table>\n",
       "</div>"
      ],
      "text/plain": [
       "   i  index  mes      P1  desvio_padrao  valor_min  valor_max   valor_medio  \\\n",
       "0  1      1  Jan  32.125         34.686     -2.561     66.812       101.273   \n",
       "1  1      3  Fev  37.017         43.279     -6.262     80.295       101.250   \n",
       "2  1      5  Mar  35.718         50.956    -15.238     86.674        50.723   \n",
       "3  1      6  Abr  42.889         44.501     -1.611     87.390        53.278   \n",
       "4  1      7  Mai  45.724         41.387      4.337     87.111        53.297   \n",
       "\n",
       "   diferenca  \n",
       "0     69.148  \n",
       "1     64.234  \n",
       "2     15.005  \n",
       "3     10.389  \n",
       "4      7.573  "
      ]
     },
     "execution_count": 7,
     "metadata": {},
     "output_type": "execute_result"
    }
   ],
   "source": [
    "df.head()"
   ]
  },
  {
   "cell_type": "code",
   "execution_count": 8,
   "id": "69527c44",
   "metadata": {},
   "outputs": [
    {
     "data": {
      "text/plain": [
       "Index(['i', 'index', 'mes', 'P1', 'desvio_padrao', 'valor_min', 'valor_max',\n",
       "       ' valor_medio', 'diferenca'],\n",
       "      dtype='object')"
      ]
     },
     "execution_count": 8,
     "metadata": {},
     "output_type": "execute_result"
    }
   ],
   "source": [
    "df.columns"
   ]
  },
  {
   "cell_type": "code",
   "execution_count": 9,
   "id": "2c337086",
   "metadata": {},
   "outputs": [
    {
     "data": {
      "text/plain": [
       "i                  int64\n",
       "index              int64\n",
       "mes               object\n",
       "P1               float64\n",
       "desvio_padrao    float64\n",
       "valor_min        float64\n",
       "valor_max        float64\n",
       " valor_medio     float64\n",
       "diferenca        float64\n",
       "dtype: object"
      ]
     },
     "execution_count": 9,
     "metadata": {},
     "output_type": "execute_result"
    }
   ],
   "source": [
    "df.dtypes"
   ]
  },
  {
   "cell_type": "code",
   "execution_count": 10,
   "id": "42055a5d",
   "metadata": {},
   "outputs": [],
   "source": [
    "df_final = df[['i','index', 'P1', 'desvio_padrao', 'valor_min', 'valor_max', 'diferenca', ' valor_medio']]"
   ]
  },
  {
   "cell_type": "code",
   "execution_count": 11,
   "id": "4d5a1de3",
   "metadata": {},
   "outputs": [
    {
     "data": {
      "text/html": [
       "<div>\n",
       "<style scoped>\n",
       "    .dataframe tbody tr th:only-of-type {\n",
       "        vertical-align: middle;\n",
       "    }\n",
       "\n",
       "    .dataframe tbody tr th {\n",
       "        vertical-align: top;\n",
       "    }\n",
       "\n",
       "    .dataframe thead th {\n",
       "        text-align: right;\n",
       "    }\n",
       "</style>\n",
       "<table border=\"1\" class=\"dataframe\">\n",
       "  <thead>\n",
       "    <tr style=\"text-align: right;\">\n",
       "      <th></th>\n",
       "      <th>i</th>\n",
       "      <th>index</th>\n",
       "      <th>P1</th>\n",
       "      <th>desvio_padrao</th>\n",
       "      <th>valor_min</th>\n",
       "      <th>valor_max</th>\n",
       "      <th>diferenca</th>\n",
       "      <th>valor_medio</th>\n",
       "    </tr>\n",
       "  </thead>\n",
       "  <tbody>\n",
       "    <tr>\n",
       "      <th>0</th>\n",
       "      <td>1</td>\n",
       "      <td>1</td>\n",
       "      <td>32.125</td>\n",
       "      <td>34.686</td>\n",
       "      <td>-2.561</td>\n",
       "      <td>66.812</td>\n",
       "      <td>69.148</td>\n",
       "      <td>101.273</td>\n",
       "    </tr>\n",
       "    <tr>\n",
       "      <th>1</th>\n",
       "      <td>1</td>\n",
       "      <td>3</td>\n",
       "      <td>37.017</td>\n",
       "      <td>43.279</td>\n",
       "      <td>-6.262</td>\n",
       "      <td>80.295</td>\n",
       "      <td>64.234</td>\n",
       "      <td>101.250</td>\n",
       "    </tr>\n",
       "    <tr>\n",
       "      <th>2</th>\n",
       "      <td>1</td>\n",
       "      <td>5</td>\n",
       "      <td>35.718</td>\n",
       "      <td>50.956</td>\n",
       "      <td>-15.238</td>\n",
       "      <td>86.674</td>\n",
       "      <td>15.005</td>\n",
       "      <td>50.723</td>\n",
       "    </tr>\n",
       "    <tr>\n",
       "      <th>3</th>\n",
       "      <td>1</td>\n",
       "      <td>6</td>\n",
       "      <td>42.889</td>\n",
       "      <td>44.501</td>\n",
       "      <td>-1.611</td>\n",
       "      <td>87.390</td>\n",
       "      <td>10.389</td>\n",
       "      <td>53.278</td>\n",
       "    </tr>\n",
       "    <tr>\n",
       "      <th>4</th>\n",
       "      <td>1</td>\n",
       "      <td>7</td>\n",
       "      <td>45.724</td>\n",
       "      <td>41.387</td>\n",
       "      <td>4.337</td>\n",
       "      <td>87.111</td>\n",
       "      <td>7.573</td>\n",
       "      <td>53.297</td>\n",
       "    </tr>\n",
       "  </tbody>\n",
       "</table>\n",
       "</div>"
      ],
      "text/plain": [
       "   i  index      P1  desvio_padrao  valor_min  valor_max  diferenca  \\\n",
       "0  1      1  32.125         34.686     -2.561     66.812     69.148   \n",
       "1  1      3  37.017         43.279     -6.262     80.295     64.234   \n",
       "2  1      5  35.718         50.956    -15.238     86.674     15.005   \n",
       "3  1      6  42.889         44.501     -1.611     87.390     10.389   \n",
       "4  1      7  45.724         41.387      4.337     87.111      7.573   \n",
       "\n",
       "    valor_medio  \n",
       "0       101.273  \n",
       "1       101.250  \n",
       "2        50.723  \n",
       "3        53.278  \n",
       "4        53.297  "
      ]
     },
     "execution_count": 11,
     "metadata": {},
     "output_type": "execute_result"
    }
   ],
   "source": [
    "df_final.head()"
   ]
  },
  {
   "cell_type": "markdown",
   "id": "96f7b13a",
   "metadata": {},
   "source": [
    "<b> 3.3 Corte (Separação de Dados para Treino e Teste) (Split) </b>"
   ]
  },
  {
   "cell_type": "code",
   "execution_count": 12,
   "id": "0ebf1b36",
   "metadata": {},
   "outputs": [],
   "source": [
    "df_train = df_final.query('i==1')\n",
    "df_test  = df_final.query('i==2')\n",
    "\n",
    "y_train = df_train[' valor_medio']\n",
    "X_train = df_train.drop(' valor_medio',axis=1)\n",
    "\n",
    "y_test = df_test[' valor_medio']\n",
    "X_test = df_test.drop(' valor_medio',axis=1)"
   ]
  },
  {
   "cell_type": "markdown",
   "id": "a85fbe3f",
   "metadata": {},
   "source": [
    "<b> 3.4 Normalização dos Dados </b>"
   ]
  },
  {
   "cell_type": "code",
   "execution_count": 13,
   "id": "46ffac0d",
   "metadata": {},
   "outputs": [],
   "source": [
    "min_max_scaler = preprocessing.MinMaxScaler()"
   ]
  },
  {
   "cell_type": "code",
   "execution_count": 14,
   "id": "4cac16c3",
   "metadata": {},
   "outputs": [],
   "source": [
    "x_train_scaled = min_max_scaler.fit_transform(X_train)\n",
    "x_test_scaled = min_max_scaler.fit_transform(X_test)"
   ]
  },
  {
   "cell_type": "markdown",
   "id": "81405ad1",
   "metadata": {},
   "source": [
    "<b> 3.5 Aprendizagem de Máquina (Treinamento) </b>"
   ]
  },
  {
   "cell_type": "code",
   "execution_count": 15,
   "id": "fe809f40",
   "metadata": {},
   "outputs": [],
   "source": [
    "model = LinearRegression().fit(x_train_scaled,y_train)"
   ]
  },
  {
   "cell_type": "code",
   "execution_count": 16,
   "id": "2582ef0c",
   "metadata": {},
   "outputs": [],
   "source": [
    "from sklearn.ensemble import RandomForestRegressor"
   ]
  },
  {
   "cell_type": "code",
   "execution_count": 17,
   "id": "9d4e256a",
   "metadata": {},
   "outputs": [],
   "source": [
    "regr = RandomForestRegressor(max_depth=2, random_state=0)"
   ]
  },
  {
   "cell_type": "code",
   "execution_count": 18,
   "id": "cef27cb1",
   "metadata": {},
   "outputs": [
    {
     "data": {
      "text/html": [
       "<style>#sk-container-id-1 {color: black;background-color: white;}#sk-container-id-1 pre{padding: 0;}#sk-container-id-1 div.sk-toggleable {background-color: white;}#sk-container-id-1 label.sk-toggleable__label {cursor: pointer;display: block;width: 100%;margin-bottom: 0;padding: 0.3em;box-sizing: border-box;text-align: center;}#sk-container-id-1 label.sk-toggleable__label-arrow:before {content: \"▸\";float: left;margin-right: 0.25em;color: #696969;}#sk-container-id-1 label.sk-toggleable__label-arrow:hover:before {color: black;}#sk-container-id-1 div.sk-estimator:hover label.sk-toggleable__label-arrow:before {color: black;}#sk-container-id-1 div.sk-toggleable__content {max-height: 0;max-width: 0;overflow: hidden;text-align: left;background-color: #f0f8ff;}#sk-container-id-1 div.sk-toggleable__content pre {margin: 0.2em;color: black;border-radius: 0.25em;background-color: #f0f8ff;}#sk-container-id-1 input.sk-toggleable__control:checked~div.sk-toggleable__content {max-height: 200px;max-width: 100%;overflow: auto;}#sk-container-id-1 input.sk-toggleable__control:checked~label.sk-toggleable__label-arrow:before {content: \"▾\";}#sk-container-id-1 div.sk-estimator input.sk-toggleable__control:checked~label.sk-toggleable__label {background-color: #d4ebff;}#sk-container-id-1 div.sk-label input.sk-toggleable__control:checked~label.sk-toggleable__label {background-color: #d4ebff;}#sk-container-id-1 input.sk-hidden--visually {border: 0;clip: rect(1px 1px 1px 1px);clip: rect(1px, 1px, 1px, 1px);height: 1px;margin: -1px;overflow: hidden;padding: 0;position: absolute;width: 1px;}#sk-container-id-1 div.sk-estimator {font-family: monospace;background-color: #f0f8ff;border: 1px dotted black;border-radius: 0.25em;box-sizing: border-box;margin-bottom: 0.5em;}#sk-container-id-1 div.sk-estimator:hover {background-color: #d4ebff;}#sk-container-id-1 div.sk-parallel-item::after {content: \"\";width: 100%;border-bottom: 1px solid gray;flex-grow: 1;}#sk-container-id-1 div.sk-label:hover label.sk-toggleable__label {background-color: #d4ebff;}#sk-container-id-1 div.sk-serial::before {content: \"\";position: absolute;border-left: 1px solid gray;box-sizing: border-box;top: 0;bottom: 0;left: 50%;z-index: 0;}#sk-container-id-1 div.sk-serial {display: flex;flex-direction: column;align-items: center;background-color: white;padding-right: 0.2em;padding-left: 0.2em;position: relative;}#sk-container-id-1 div.sk-item {position: relative;z-index: 1;}#sk-container-id-1 div.sk-parallel {display: flex;align-items: stretch;justify-content: center;background-color: white;position: relative;}#sk-container-id-1 div.sk-item::before, #sk-container-id-1 div.sk-parallel-item::before {content: \"\";position: absolute;border-left: 1px solid gray;box-sizing: border-box;top: 0;bottom: 0;left: 50%;z-index: -1;}#sk-container-id-1 div.sk-parallel-item {display: flex;flex-direction: column;z-index: 1;position: relative;background-color: white;}#sk-container-id-1 div.sk-parallel-item:first-child::after {align-self: flex-end;width: 50%;}#sk-container-id-1 div.sk-parallel-item:last-child::after {align-self: flex-start;width: 50%;}#sk-container-id-1 div.sk-parallel-item:only-child::after {width: 0;}#sk-container-id-1 div.sk-dashed-wrapped {border: 1px dashed gray;margin: 0 0.4em 0.5em 0.4em;box-sizing: border-box;padding-bottom: 0.4em;background-color: white;}#sk-container-id-1 div.sk-label label {font-family: monospace;font-weight: bold;display: inline-block;line-height: 1.2em;}#sk-container-id-1 div.sk-label-container {text-align: center;}#sk-container-id-1 div.sk-container {/* jupyter's `normalize.less` sets `[hidden] { display: none; }` but bootstrap.min.css set `[hidden] { display: none !important; }` so we also need the `!important` here to be able to override the default hidden behavior on the sphinx rendered scikit-learn.org. See: https://github.com/scikit-learn/scikit-learn/issues/21755 */display: inline-block !important;position: relative;}#sk-container-id-1 div.sk-text-repr-fallback {display: none;}</style><div id=\"sk-container-id-1\" class=\"sk-top-container\"><div class=\"sk-text-repr-fallback\"><pre>RandomForestRegressor(max_depth=2, random_state=0)</pre><b>In a Jupyter environment, please rerun this cell to show the HTML representation or trust the notebook. <br />On GitHub, the HTML representation is unable to render, please try loading this page with nbviewer.org.</b></div><div class=\"sk-container\" hidden><div class=\"sk-item\"><div class=\"sk-estimator sk-toggleable\"><input class=\"sk-toggleable__control sk-hidden--visually\" id=\"sk-estimator-id-1\" type=\"checkbox\" checked><label for=\"sk-estimator-id-1\" class=\"sk-toggleable__label sk-toggleable__label-arrow\">RandomForestRegressor</label><div class=\"sk-toggleable__content\"><pre>RandomForestRegressor(max_depth=2, random_state=0)</pre></div></div></div></div></div>"
      ],
      "text/plain": [
       "RandomForestRegressor(max_depth=2, random_state=0)"
      ]
     },
     "execution_count": 18,
     "metadata": {},
     "output_type": "execute_result"
    }
   ],
   "source": [
    "regr.fit(x_train_scaled,y_train)"
   ]
  },
  {
   "cell_type": "markdown",
   "id": "ca5b6d30",
   "metadata": {},
   "source": [
    "<b> 3.6 Aprendizagem de Máquina (Predição) </b>"
   ]
  },
  {
   "cell_type": "code",
   "execution_count": 19,
   "id": "f4cfb22e",
   "metadata": {},
   "outputs": [],
   "source": [
    "y_pred = model.predict(x_test_scaled)"
   ]
  },
  {
   "cell_type": "code",
   "execution_count": 20,
   "id": "ae4a4785",
   "metadata": {},
   "outputs": [],
   "source": [
    "y_pred_m_rf = regr.predict(x_test_scaled)"
   ]
  },
  {
   "cell_type": "code",
   "execution_count": 21,
   "id": "148d9f9f",
   "metadata": {},
   "outputs": [
    {
     "data": {
      "text/plain": [
       "array([30.17193167, 52.63942426, 90.7168014 ])"
      ]
     },
     "execution_count": 21,
     "metadata": {},
     "output_type": "execute_result"
    }
   ],
   "source": [
    "y_pred_m_rf"
   ]
  },
  {
   "cell_type": "code",
   "execution_count": 22,
   "id": "e38de27e",
   "metadata": {},
   "outputs": [
    {
     "data": {
      "text/html": [
       "<div>\n",
       "<style scoped>\n",
       "    .dataframe tbody tr th:only-of-type {\n",
       "        vertical-align: middle;\n",
       "    }\n",
       "\n",
       "    .dataframe tbody tr th {\n",
       "        vertical-align: top;\n",
       "    }\n",
       "\n",
       "    .dataframe thead th {\n",
       "        text-align: right;\n",
       "    }\n",
       "</style>\n",
       "<table border=\"1\" class=\"dataframe\">\n",
       "  <thead>\n",
       "    <tr style=\"text-align: right;\">\n",
       "      <th></th>\n",
       "      <th>i</th>\n",
       "      <th>index</th>\n",
       "      <th>P1</th>\n",
       "      <th>desvio_padrao</th>\n",
       "      <th>valor_min</th>\n",
       "      <th>valor_max</th>\n",
       "      <th>diferenca</th>\n",
       "      <th>valor_medio</th>\n",
       "    </tr>\n",
       "  </thead>\n",
       "  <tbody>\n",
       "    <tr>\n",
       "      <th>9</th>\n",
       "      <td>2</td>\n",
       "      <td>12</td>\n",
       "      <td>44.347</td>\n",
       "      <td>33.968</td>\n",
       "      <td>10.380</td>\n",
       "      <td>78.315</td>\n",
       "      <td>-6.454</td>\n",
       "      <td>37.894</td>\n",
       "    </tr>\n",
       "    <tr>\n",
       "      <th>10</th>\n",
       "      <td>2</td>\n",
       "      <td>4</td>\n",
       "      <td>47.182</td>\n",
       "      <td>39.557</td>\n",
       "      <td>7.625</td>\n",
       "      <td>86.739</td>\n",
       "      <td>-6.835</td>\n",
       "      <td>40.347</td>\n",
       "    </tr>\n",
       "    <tr>\n",
       "      <th>11</th>\n",
       "      <td>2</td>\n",
       "      <td>2</td>\n",
       "      <td>48.622</td>\n",
       "      <td>44.833</td>\n",
       "      <td>3.789</td>\n",
       "      <td>93.455</td>\n",
       "      <td>62.369</td>\n",
       "      <td>110.991</td>\n",
       "    </tr>\n",
       "  </tbody>\n",
       "</table>\n",
       "</div>"
      ],
      "text/plain": [
       "    i  index      P1  desvio_padrao  valor_min  valor_max  diferenca  \\\n",
       "9   2     12  44.347         33.968     10.380     78.315     -6.454   \n",
       "10  2      4  47.182         39.557      7.625     86.739     -6.835   \n",
       "11  2      2  48.622         44.833      3.789     93.455     62.369   \n",
       "\n",
       "     valor_medio  \n",
       "9         37.894  \n",
       "10        40.347  \n",
       "11       110.991  "
      ]
     },
     "execution_count": 22,
     "metadata": {},
     "output_type": "execute_result"
    }
   ],
   "source": [
    "df_test.head()"
   ]
  },
  {
   "cell_type": "code",
   "execution_count": 23,
   "id": "8c32e054",
   "metadata": {},
   "outputs": [
    {
     "name": "stderr",
     "output_type": "stream",
     "text": [
      "/tmp/ipykernel_5144/3294378790.py:1: SettingWithCopyWarning: \n",
      "A value is trying to be set on a copy of a slice from a DataFrame.\n",
      "Try using .loc[row_indexer,col_indexer] = value instead\n",
      "\n",
      "See the caveats in the documentation: https://pandas.pydata.org/pandas-docs/stable/user_guide/indexing.html#returning-a-view-versus-a-copy\n",
      "  df_test['valor_medio_model'] = y_pred\n"
     ]
    }
   ],
   "source": [
    "df_test['valor_medio_model'] = y_pred"
   ]
  },
  {
   "cell_type": "code",
   "execution_count": 24,
   "id": "6f231d81",
   "metadata": {},
   "outputs": [
    {
     "data": {
      "text/html": [
       "<div>\n",
       "<style scoped>\n",
       "    .dataframe tbody tr th:only-of-type {\n",
       "        vertical-align: middle;\n",
       "    }\n",
       "\n",
       "    .dataframe tbody tr th {\n",
       "        vertical-align: top;\n",
       "    }\n",
       "\n",
       "    .dataframe thead th {\n",
       "        text-align: right;\n",
       "    }\n",
       "</style>\n",
       "<table border=\"1\" class=\"dataframe\">\n",
       "  <thead>\n",
       "    <tr style=\"text-align: right;\">\n",
       "      <th></th>\n",
       "      <th>i</th>\n",
       "      <th>index</th>\n",
       "      <th>P1</th>\n",
       "      <th>desvio_padrao</th>\n",
       "      <th>valor_min</th>\n",
       "      <th>valor_max</th>\n",
       "      <th>diferenca</th>\n",
       "      <th>valor_medio</th>\n",
       "      <th>valor_medio_model</th>\n",
       "    </tr>\n",
       "  </thead>\n",
       "  <tbody>\n",
       "    <tr>\n",
       "      <th>9</th>\n",
       "      <td>2</td>\n",
       "      <td>12</td>\n",
       "      <td>44.347</td>\n",
       "      <td>33.968</td>\n",
       "      <td>10.380</td>\n",
       "      <td>78.315</td>\n",
       "      <td>-6.454</td>\n",
       "      <td>37.894</td>\n",
       "      <td>4.989722</td>\n",
       "    </tr>\n",
       "    <tr>\n",
       "      <th>10</th>\n",
       "      <td>2</td>\n",
       "      <td>4</td>\n",
       "      <td>47.182</td>\n",
       "      <td>39.557</td>\n",
       "      <td>7.625</td>\n",
       "      <td>86.739</td>\n",
       "      <td>-6.835</td>\n",
       "      <td>40.347</td>\n",
       "      <td>11.471902</td>\n",
       "    </tr>\n",
       "    <tr>\n",
       "      <th>11</th>\n",
       "      <td>2</td>\n",
       "      <td>2</td>\n",
       "      <td>48.622</td>\n",
       "      <td>44.833</td>\n",
       "      <td>3.789</td>\n",
       "      <td>93.455</td>\n",
       "      <td>62.369</td>\n",
       "      <td>110.991</td>\n",
       "      <td>112.846774</td>\n",
       "    </tr>\n",
       "  </tbody>\n",
       "</table>\n",
       "</div>"
      ],
      "text/plain": [
       "    i  index      P1  desvio_padrao  valor_min  valor_max  diferenca  \\\n",
       "9   2     12  44.347         33.968     10.380     78.315     -6.454   \n",
       "10  2      4  47.182         39.557      7.625     86.739     -6.835   \n",
       "11  2      2  48.622         44.833      3.789     93.455     62.369   \n",
       "\n",
       "     valor_medio  valor_medio_model  \n",
       "9         37.894           4.989722  \n",
       "10        40.347          11.471902  \n",
       "11       110.991         112.846774  "
      ]
     },
     "execution_count": 24,
     "metadata": {},
     "output_type": "execute_result"
    }
   ],
   "source": [
    "df_test"
   ]
  },
  {
   "cell_type": "code",
   "execution_count": 25,
   "id": "ab564c3f",
   "metadata": {},
   "outputs": [
    {
     "data": {
      "text/html": [
       "<div>\n",
       "<style scoped>\n",
       "    .dataframe tbody tr th:only-of-type {\n",
       "        vertical-align: middle;\n",
       "    }\n",
       "\n",
       "    .dataframe tbody tr th {\n",
       "        vertical-align: top;\n",
       "    }\n",
       "\n",
       "    .dataframe thead th {\n",
       "        text-align: right;\n",
       "    }\n",
       "</style>\n",
       "<table border=\"1\" class=\"dataframe\">\n",
       "  <thead>\n",
       "    <tr style=\"text-align: right;\">\n",
       "      <th></th>\n",
       "      <th>i</th>\n",
       "      <th>index</th>\n",
       "      <th>P1</th>\n",
       "      <th>desvio_padrao</th>\n",
       "      <th>valor_min</th>\n",
       "      <th>valor_max</th>\n",
       "      <th>diferenca</th>\n",
       "      <th>valor_medio</th>\n",
       "    </tr>\n",
       "  </thead>\n",
       "  <tbody>\n",
       "    <tr>\n",
       "      <th>0</th>\n",
       "      <td>1</td>\n",
       "      <td>1</td>\n",
       "      <td>32.125</td>\n",
       "      <td>34.686</td>\n",
       "      <td>-2.561</td>\n",
       "      <td>66.812</td>\n",
       "      <td>69.148</td>\n",
       "      <td>101.273</td>\n",
       "    </tr>\n",
       "    <tr>\n",
       "      <th>1</th>\n",
       "      <td>1</td>\n",
       "      <td>3</td>\n",
       "      <td>37.017</td>\n",
       "      <td>43.279</td>\n",
       "      <td>-6.262</td>\n",
       "      <td>80.295</td>\n",
       "      <td>64.234</td>\n",
       "      <td>101.250</td>\n",
       "    </tr>\n",
       "    <tr>\n",
       "      <th>2</th>\n",
       "      <td>1</td>\n",
       "      <td>5</td>\n",
       "      <td>35.718</td>\n",
       "      <td>50.956</td>\n",
       "      <td>-15.238</td>\n",
       "      <td>86.674</td>\n",
       "      <td>15.005</td>\n",
       "      <td>50.723</td>\n",
       "    </tr>\n",
       "    <tr>\n",
       "      <th>3</th>\n",
       "      <td>1</td>\n",
       "      <td>6</td>\n",
       "      <td>42.889</td>\n",
       "      <td>44.501</td>\n",
       "      <td>-1.611</td>\n",
       "      <td>87.390</td>\n",
       "      <td>10.389</td>\n",
       "      <td>53.278</td>\n",
       "    </tr>\n",
       "    <tr>\n",
       "      <th>4</th>\n",
       "      <td>1</td>\n",
       "      <td>7</td>\n",
       "      <td>45.724</td>\n",
       "      <td>41.387</td>\n",
       "      <td>4.337</td>\n",
       "      <td>87.111</td>\n",
       "      <td>7.573</td>\n",
       "      <td>53.297</td>\n",
       "    </tr>\n",
       "    <tr>\n",
       "      <th>5</th>\n",
       "      <td>1</td>\n",
       "      <td>8</td>\n",
       "      <td>47.164</td>\n",
       "      <td>42.620</td>\n",
       "      <td>4.544</td>\n",
       "      <td>89.783</td>\n",
       "      <td>-28.860</td>\n",
       "      <td>18.304</td>\n",
       "    </tr>\n",
       "    <tr>\n",
       "      <th>6</th>\n",
       "      <td>1</td>\n",
       "      <td>9</td>\n",
       "      <td>33.583</td>\n",
       "      <td>31.156</td>\n",
       "      <td>2.427</td>\n",
       "      <td>64.740</td>\n",
       "      <td>-20.424</td>\n",
       "      <td>13.160</td>\n",
       "    </tr>\n",
       "    <tr>\n",
       "      <th>7</th>\n",
       "      <td>1</td>\n",
       "      <td>10</td>\n",
       "      <td>38.475</td>\n",
       "      <td>29.560</td>\n",
       "      <td>8.915</td>\n",
       "      <td>68.035</td>\n",
       "      <td>-1.232</td>\n",
       "      <td>37.243</td>\n",
       "    </tr>\n",
       "    <tr>\n",
       "      <th>8</th>\n",
       "      <td>1</td>\n",
       "      <td>11</td>\n",
       "      <td>37.176</td>\n",
       "      <td>38.225</td>\n",
       "      <td>-1.050</td>\n",
       "      <td>75.401</td>\n",
       "      <td>2.046</td>\n",
       "      <td>39.222</td>\n",
       "    </tr>\n",
       "  </tbody>\n",
       "</table>\n",
       "</div>"
      ],
      "text/plain": [
       "   i  index      P1  desvio_padrao  valor_min  valor_max  diferenca  \\\n",
       "0  1      1  32.125         34.686     -2.561     66.812     69.148   \n",
       "1  1      3  37.017         43.279     -6.262     80.295     64.234   \n",
       "2  1      5  35.718         50.956    -15.238     86.674     15.005   \n",
       "3  1      6  42.889         44.501     -1.611     87.390     10.389   \n",
       "4  1      7  45.724         41.387      4.337     87.111      7.573   \n",
       "5  1      8  47.164         42.620      4.544     89.783    -28.860   \n",
       "6  1      9  33.583         31.156      2.427     64.740    -20.424   \n",
       "7  1     10  38.475         29.560      8.915     68.035     -1.232   \n",
       "8  1     11  37.176         38.225     -1.050     75.401      2.046   \n",
       "\n",
       "    valor_medio  \n",
       "0       101.273  \n",
       "1       101.250  \n",
       "2        50.723  \n",
       "3        53.278  \n",
       "4        53.297  \n",
       "5        18.304  \n",
       "6        13.160  \n",
       "7        37.243  \n",
       "8        39.222  "
      ]
     },
     "execution_count": 25,
     "metadata": {},
     "output_type": "execute_result"
    }
   ],
   "source": [
    "df_train"
   ]
  },
  {
   "cell_type": "code",
   "execution_count": 26,
   "id": "a10883f5",
   "metadata": {},
   "outputs": [
    {
     "data": {
      "text/html": [
       "<div>\n",
       "<style scoped>\n",
       "    .dataframe tbody tr th:only-of-type {\n",
       "        vertical-align: middle;\n",
       "    }\n",
       "\n",
       "    .dataframe tbody tr th {\n",
       "        vertical-align: top;\n",
       "    }\n",
       "\n",
       "    .dataframe thead th {\n",
       "        text-align: right;\n",
       "    }\n",
       "</style>\n",
       "<table border=\"1\" class=\"dataframe\">\n",
       "  <thead>\n",
       "    <tr style=\"text-align: right;\">\n",
       "      <th></th>\n",
       "      <th>i</th>\n",
       "      <th>index</th>\n",
       "      <th>P1</th>\n",
       "      <th>desvio_padrao</th>\n",
       "      <th>valor_min</th>\n",
       "      <th>valor_max</th>\n",
       "      <th>diferenca</th>\n",
       "      <th>valor_medio</th>\n",
       "      <th>valor_medio_model</th>\n",
       "    </tr>\n",
       "  </thead>\n",
       "  <tbody>\n",
       "    <tr>\n",
       "      <th>9</th>\n",
       "      <td>2</td>\n",
       "      <td>12</td>\n",
       "      <td>44.347</td>\n",
       "      <td>33.968</td>\n",
       "      <td>10.380</td>\n",
       "      <td>78.315</td>\n",
       "      <td>-6.454</td>\n",
       "      <td>37.894</td>\n",
       "      <td>4.989722</td>\n",
       "    </tr>\n",
       "    <tr>\n",
       "      <th>10</th>\n",
       "      <td>2</td>\n",
       "      <td>4</td>\n",
       "      <td>47.182</td>\n",
       "      <td>39.557</td>\n",
       "      <td>7.625</td>\n",
       "      <td>86.739</td>\n",
       "      <td>-6.835</td>\n",
       "      <td>40.347</td>\n",
       "      <td>11.471902</td>\n",
       "    </tr>\n",
       "    <tr>\n",
       "      <th>11</th>\n",
       "      <td>2</td>\n",
       "      <td>2</td>\n",
       "      <td>48.622</td>\n",
       "      <td>44.833</td>\n",
       "      <td>3.789</td>\n",
       "      <td>93.455</td>\n",
       "      <td>62.369</td>\n",
       "      <td>110.991</td>\n",
       "      <td>112.846774</td>\n",
       "    </tr>\n",
       "  </tbody>\n",
       "</table>\n",
       "</div>"
      ],
      "text/plain": [
       "    i  index      P1  desvio_padrao  valor_min  valor_max  diferenca  \\\n",
       "9   2     12  44.347         33.968     10.380     78.315     -6.454   \n",
       "10  2      4  47.182         39.557      7.625     86.739     -6.835   \n",
       "11  2      2  48.622         44.833      3.789     93.455     62.369   \n",
       "\n",
       "     valor_medio  valor_medio_model  \n",
       "9         37.894           4.989722  \n",
       "10        40.347          11.471902  \n",
       "11       110.991         112.846774  "
      ]
     },
     "execution_count": 26,
     "metadata": {},
     "output_type": "execute_result"
    }
   ],
   "source": [
    "df_test"
   ]
  },
  {
   "cell_type": "code",
   "execution_count": 27,
   "id": "20fe51d4",
   "metadata": {},
   "outputs": [
    {
     "data": {
      "text/plain": [
       "Index(['i', 'index', 'P1', 'desvio_padrao', 'valor_min', 'valor_max',\n",
       "       'diferenca', ' valor_medio', 'valor_medio_model'],\n",
       "      dtype='object')"
      ]
     },
     "execution_count": 27,
     "metadata": {},
     "output_type": "execute_result"
    }
   ],
   "source": [
    "df_test.columns"
   ]
  },
  {
   "cell_type": "code",
   "execution_count": 29,
   "id": "4761ea5a",
   "metadata": {},
   "outputs": [
    {
     "data": {
      "text/plain": [
       "Index(['i', 'index', 'P1', 'desvio_padrao', 'valor_min', 'valor_max',\n",
       "       'diferenca', ' valor_medio', 'valor_medio_model'],\n",
       "      dtype='object')"
      ]
     },
     "execution_count": 29,
     "metadata": {},
     "output_type": "execute_result"
    }
   ],
   "source": [
    "df_test.columns"
   ]
  },
  {
   "cell_type": "markdown",
   "id": "6966b3e7",
   "metadata": {},
   "source": [
    "<b> 3.7 Aprendizagem de Máquina (Avaliação do Modelo de Regressão) </b>"
   ]
  },
  {
   "cell_type": "code",
   "execution_count": 71,
   "id": "06907a8d",
   "metadata": {},
   "outputs": [],
   "source": [
    "from sklearn.metrics import explained_variance_score\n",
    "from sklearn.metrics import mean_squared_log_error\n",
    "from sklearn.metrics import r2_score\n",
    "from sklearn.metrics import mean_absolute_error\n",
    "from sklearn.metrics import mean_squared_error\n",
    "from sklearn.metrics import mean_poisson_deviance\n",
    "import matplotlib.pyplot as plt\n"
   ]
  },
  {
   "cell_type": "code",
   "execution_count": 62,
   "id": "1b952ed6",
   "metadata": {},
   "outputs": [],
   "source": [
    "y_true = df_test[' valor_medio'].values"
   ]
  },
  {
   "cell_type": "code",
   "execution_count": 63,
   "id": "57188623",
   "metadata": {},
   "outputs": [],
   "source": [
    "y_pred = df_test['valor_medio_model'].values"
   ]
  },
  {
   "cell_type": "code",
   "execution_count": 64,
   "id": "e0d829c7",
   "metadata": {},
   "outputs": [],
   "source": [
    "def showMetrics(y_true, y_pred):\n",
    "    print (\"explained variance score: \", explained_variance_score(y_true, y_pred))\n",
    "    print(\"r2 score: \",r2_score(y_true, y_pred) )\n",
    "    print(\"Mean Absolute Error: \", mean_absolute_error(y_true, y_pred))\n",
    "    print(\"Mean Squared Error: \", mean_squared_error(y_true, y_pred))\n",
    "    print(\"Mean Poisson deviance: \", mean_poisson_deviance(y_true, y_pred))\n",
    "    print(\"Mean Squared Log Error: \", mean_squared_log_error(y_true, y_pred))\n",
    "    "
   ]
  },
  {
   "cell_type": "code",
   "execution_count": 65,
   "id": "631f05e4",
   "metadata": {},
   "outputs": [],
   "source": [
    "def createMetrics(y_true, y_pred):\n",
    "    metrics = []\n",
    "    metrics.append(explained_variance_score(y_true, y_pred))\n",
    "    metrics.append(r2_score(y_true, y_pred))\n",
    "    metrics.append(mean_absolute_error(y_true, y_pred))\n",
    "    metrics.append(mean_squared_error(y_true, y_pred))\n",
    "    metrics.append(mean_poisson_deviance(y_true, y_pred))\n",
    "    metrics.append(mean_squared_log_error(y_true, y_pred))\n",
    "    return metrics"
   ]
  },
  {
   "cell_type": "code",
   "execution_count": 66,
   "id": "b92ff7a9",
   "metadata": {},
   "outputs": [],
   "source": [
    "def compareMetrics(y_true, y_pred1, y_pred2):\n",
    "    metrics1 = createMetrics(y_true, y_pred1)\n",
    "    metrics2 = createMetrics(y_true, y_pred2)\n",
    "    types = [\"explained variance score: \",\n",
    "            \"r2 score: \",\n",
    "            \"Mean Absolute Error: \",\n",
    "            \"Mean Squared Error: \",\n",
    "            \"Mean Poisson deviance: \",\n",
    "            \"Mean Squared Log Error: \"]\n",
    "    for i in range(len(metrics1)):\n",
    "        print(types[i], metrics1[i],\" \", metrics2[i])"
   ]
  },
  {
   "cell_type": "code",
   "execution_count": 69,
   "id": "7ecab34a",
   "metadata": {},
   "outputs": [
    {
     "name": "stdout",
     "output_type": "stream",
     "text": [
      "explained variance score:  0.7902387206067031\n",
      "r2 score:  0.44295435208705936\n",
      "Mean Absolute Error:  21.211716715028942\n",
      "Mean Squared Error:  639.9689085328233\n",
      "Mean Poisson deviance:  43.869192313787316\n",
      "Mean Squared Log Error:  1.6455327829076658\n"
     ]
    }
   ],
   "source": [
    "showMetrics(y_true, y_pred)"
   ]
  },
  {
   "cell_type": "code",
   "execution_count": 68,
   "id": "64c1b0c1",
   "metadata": {},
   "outputs": [
    {
     "name": "stdout",
     "output_type": "stream",
     "text": [
      "explained variance score:  0.7902387206067031   0.843447015482242\n",
      "r2 score:  0.44295435208705936   0.8195963076801126\n",
      "Mean Absolute Error:  21.211716715028942   13.429563730158725\n",
      "Mean Squared Error:  639.9689085328233   207.25905408616254\n",
      "Mean Poisson deviance:  43.869192313787316   3.05924181688872\n",
      "Mean Squared Log Error:  1.6455327829076658   0.05220555006235859\n"
     ]
    }
   ],
   "source": [
    "compareMetrics(y_true, y_pred, y_pred_m_rf)"
   ]
  },
  {
   "cell_type": "code",
   "execution_count": 83,
   "id": "43080866",
   "metadata": {},
   "outputs": [],
   "source": [
    "def plotGraphic(y_true, y_pred):\n",
    "    plt.plot(y_true, label='Valores Reais')\n",
    "    plt.plot(y_pred, label='Valores previstos')\n",
    "\n",
    "    plt.xlabel('Índice')\n",
    "    plt.ylabel('Valores')\n",
    "    plt.title('Gráfico de Resultados')\n",
    "\n",
    "    plt.legend(['Valores Reais', 'Valores Previstos'])\n",
    "\n",
    "    plt.show()"
   ]
  },
  {
   "cell_type": "code",
   "execution_count": 82,
   "id": "95031e7d",
   "metadata": {},
   "outputs": [
    {
     "data": {
      "image/png": "[encoded data removed]",
      "text/plain": [
       "<Figure size 640x480 with 1 Axes>"
      ]
     },
     "metadata": {},
     "output_type": "display_data"
    }
   ],
   "source": [
    "plotGraphic(y_true, y_pred)"
   ]
  },
  {
   "cell_type": "code",
   "execution_count": 33,
   "id": "58463a53",
   "metadata": {},
   "outputs": [],
   "source": [
    "# y_true = [3, -0.5, 2, 7]\n",
    "#y_pred = [2.5, 0.0, 2, 8]\n",
    "#explained_variance_score(y_true, y_pred)"
   ]
  },
  {
   "cell_type": "markdown",
   "id": "9e8c16db",
   "metadata": {},
   "source": [
    "<b> 3.8 Conclusão </b>"
   ]
  },
  {
   "cell_type": "code",
   "execution_count": 34,
   "id": "a043e22f",
   "metadata": {},
   "outputs": [],
   "source": [
    "### Em construção"
   ]
  }
 ],
 "metadata": {
  "kernelspec": {
   "display_name": "Python 3 (ipykernel)",
   "language": "python",
   "name": "python3"
  },
  "language_info": {
   "codemirror_mode": {
    "name": "ipython",
    "version": 3
   },
   "file_extension": ".py",
   "mimetype": "text/x-python",
   "name": "python",
   "nbconvert_exporter": "python",
   "pygments_lexer": "ipython3",
   "version": "3.10.6"
  }
 },
 "nbformat": 4,
 "nbformat_minor": 5
}
