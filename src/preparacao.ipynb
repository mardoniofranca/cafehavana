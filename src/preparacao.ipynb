{
 "cells": [
  {
   "cell_type": "markdown",
   "id": "aa566ef4",
   "metadata": {},
   "source": [
    "## Preparar a Semente, Torrar o Café"
   ]
  },
  {
   "cell_type": "markdown",
   "id": "489d0300",
   "metadata": {},
   "source": [
    "###  Tratamento dos Dados"
   ]
  },
  {
   "cell_type": "markdown",
   "id": "80887b97",
   "metadata": {},
   "source": [
    "<b> 1. Introdução: </b>\n",
    "\n",
    "<b> 1.1. Problema: </b>\n",
    "\n",
    "A partir de um dataset disponibilizado, será realizado um tratamento e ajuste de modo que tenhamos um dataset no formato de linha, coluna\n",
    "\n",
    "<b> 1.2. Dataset: </b>\n",
    "\n",
    "Este dataset é projeto num formato de uma matriz multidimensional\n",
    "\n",
    "<b> 1.3. Objetivo: </b>\n",
    "    \n",
    "Gerar um dataset no formato csv para ser posteriormente usado num modelo de aprendizagem de máquinas, suportado pelo objeto dataframe da biblioteca pandas"
   ]
  },
  {
   "cell_type": "markdown",
   "id": "f079505e",
   "metadata": {},
   "source": [
    "<b> 2. Codificação - Tratamento do Arquivo </b>"
   ]
  },
  {
   "cell_type": "markdown",
   "id": "a0974de3",
   "metadata": {},
   "source": [
    "<b> 2.1 Função especial para o tratamento de linhas </b>"
   ]
  },
  {
   "cell_type": "code",
   "execution_count": 1,
   "id": "0637f4a5",
   "metadata": {},
   "outputs": [],
   "source": [
    "def tratar_line(line):\n",
    "    line = line.replace(\"\\t\",\";\")\n",
    "    line = line.replace('\"','')\n",
    "    line = line.replace('\\n','')  \n",
    "    line = line.replace('.','')\n",
    "    line = line.replace(',','.')\n",
    "    return line"
   ]
  },
  {
   "cell_type": "code",
   "execution_count": 2,
   "id": "a059b1a9",
   "metadata": {},
   "outputs": [],
   "source": [
    "line_meses = \"\"\n",
    "lista      = []\n",
    "line_valor = \"\"\n",
    "i = 0\n",
    "f = open(\"../data/tab_cooxupe.txt\", \"r\")\n",
    "for x in f:\n",
    "    if i == 0 :\n",
    "        line_meses = x\n",
    "    if i > 0 :  \n",
    "        line_valor = x\n",
    "        lista.append(tratar_line(line_valor))\n",
    "    i = i +1 "
   ]
  },
  {
   "cell_type": "code",
   "execution_count": 3,
   "id": "977b13fb",
   "metadata": {},
   "outputs": [],
   "source": [
    "line_meses= line_meses.replace(\"\\t\",\";\")\n",
    "line_meses= line_meses.replace('\"','')\n",
    "line_meses= line_meses.replace('\\n','')\n",
    "line_meses= line_meses.replace('Ano;','')"
   ]
  },
  {
   "cell_type": "code",
   "execution_count": 4,
   "id": "b164e0e8",
   "metadata": {},
   "outputs": [
    {
     "data": {
      "text/plain": [
       "['Janeiro',\n",
       " 'Fevereiro',\n",
       " 'Marco',\n",
       " 'Abril',\n",
       " 'Maio',\n",
       " 'Junho',\n",
       " 'Julho',\n",
       " 'Agosto',\n",
       " 'Setembro',\n",
       " 'Outubro',\n",
       " 'Novembro',\n",
       " 'Dezembro']"
      ]
     },
     "execution_count": 4,
     "metadata": {},
     "output_type": "execute_result"
    }
   ],
   "source": [
    "line_meses.split(';')"
   ]
  },
  {
   "cell_type": "code",
   "execution_count": 5,
   "id": "7b57ae07",
   "metadata": {},
   "outputs": [
    {
     "data": {
      "text/plain": [
       "'\"1981\"\\t\"6.336,11\"\\t\"6.563,57\"\\t\"6.421,42\"\\t\"6.421,42\"\\t\"6.411,71\"\\t\"6.207,21\"\\t\"6.533,26\"\\t\"7.455,29\"\\t\"7.601,47\"\\t\"7.814,22\"\\t\"8.670,28\"\\t\"10.055,01\"'"
      ]
     },
     "execution_count": 5,
     "metadata": {},
     "output_type": "execute_result"
    }
   ],
   "source": [
    "line_valor"
   ]
  },
  {
   "cell_type": "code",
   "execution_count": 6,
   "id": "fe9a8f01",
   "metadata": {},
   "outputs": [
    {
     "data": {
      "text/plain": [
       "'1981;6.336,11;6.563,57;6.421,42;6.421,42;6.411,71;6.207,21;6.533,26;7.455,29;7.601,47;7.814,22;8.670,28;10.055,01'"
      ]
     },
     "execution_count": 6,
     "metadata": {},
     "output_type": "execute_result"
    }
   ],
   "source": [
    "line_valor= line_valor.replace(\"\\t\",\";\")\n",
    "line_valor= line_valor.replace('\"','')\n",
    "line_valor= line_valor.replace('\\n','')\n",
    "line_valor"
   ]
  },
  {
   "cell_type": "code",
   "execution_count": 7,
   "id": "c7996fee",
   "metadata": {},
   "outputs": [
    {
     "data": {
      "text/plain": [
       "43"
      ]
     },
     "execution_count": 7,
     "metadata": {},
     "output_type": "execute_result"
    }
   ],
   "source": [
    "len(lista)"
   ]
  },
  {
   "cell_type": "code",
   "execution_count": 8,
   "id": "ab9dad4a",
   "metadata": {},
   "outputs": [],
   "source": [
    "import pandas as pd"
   ]
  },
  {
   "cell_type": "code",
   "execution_count": 12,
   "id": "e27389b4",
   "metadata": {},
   "outputs": [],
   "source": [
    "import warnings\n",
    "warnings.filterwarnings(\"ignore\")"
   ]
  },
  {
   "cell_type": "code",
   "execution_count": 13,
   "id": "b531aed0",
   "metadata": {},
   "outputs": [],
   "source": [
    "matriz = []\n",
    "vetor  = []\n",
    "data   = []\n",
    "col_names =  ['data', 'valor']\n",
    "df  = pd.DataFrame(columns = col_names)\n",
    "for l in lista:\n",
    "    vetor = l.split(';')\n",
    "    j = 0\n",
    "    for v in vetor:\n",
    "        if j == 0:\n",
    "            ano = v\n",
    "        else:\n",
    "            mes = j  \n",
    "            if len(v) == 0:\n",
    "                valor = 0\n",
    "            else:\n",
    "                valor = v\n",
    "            data_valor = str(ano) + '_' + str(mes) + ';'+ str(valor)\n",
    "            if j > 0 :\n",
    "                values = data_valor.split(';')\n",
    "                df = df.append({'data': values[0], 'valor': values[1]}, ignore_index=True)\n",
    "                data.append(data_valor)   \n",
    "        j = j + 1"
   ]
  },
  {
   "cell_type": "code",
   "execution_count": 14,
   "id": "9e5fcd9f",
   "metadata": {},
   "outputs": [
    {
     "data": {
      "text/html": [
       "<div>\n",
       "<style scoped>\n",
       "    .dataframe tbody tr th:only-of-type {\n",
       "        vertical-align: middle;\n",
       "    }\n",
       "\n",
       "    .dataframe tbody tr th {\n",
       "        vertical-align: top;\n",
       "    }\n",
       "\n",
       "    .dataframe thead th {\n",
       "        text-align: right;\n",
       "    }\n",
       "</style>\n",
       "<table border=\"1\" class=\"dataframe\">\n",
       "  <thead>\n",
       "    <tr style=\"text-align: right;\">\n",
       "      <th></th>\n",
       "      <th>data</th>\n",
       "      <th>valor</th>\n",
       "    </tr>\n",
       "  </thead>\n",
       "  <tbody>\n",
       "    <tr>\n",
       "      <th>0</th>\n",
       "      <td>2023_1</td>\n",
       "      <td>1030.14</td>\n",
       "    </tr>\n",
       "    <tr>\n",
       "      <th>1</th>\n",
       "      <td>2023_2</td>\n",
       "      <td>1130.26</td>\n",
       "    </tr>\n",
       "    <tr>\n",
       "      <th>2</th>\n",
       "      <td>2023_3</td>\n",
       "      <td>1103.37</td>\n",
       "    </tr>\n",
       "    <tr>\n",
       "      <th>3</th>\n",
       "      <td>2023_4</td>\n",
       "      <td>1115.24</td>\n",
       "    </tr>\n",
       "    <tr>\n",
       "      <th>4</th>\n",
       "      <td>2023_5</td>\n",
       "      <td>1030.64</td>\n",
       "    </tr>\n",
       "  </tbody>\n",
       "</table>\n",
       "</div>"
      ],
      "text/plain": [
       "     data    valor\n",
       "0  2023_1  1030.14\n",
       "1  2023_2  1130.26\n",
       "2  2023_3  1103.37\n",
       "3  2023_4  1115.24\n",
       "4  2023_5  1030.64"
      ]
     },
     "execution_count": 14,
     "metadata": {},
     "output_type": "execute_result"
    }
   ],
   "source": [
    "df.head()"
   ]
  },
  {
   "cell_type": "code",
   "execution_count": 15,
   "id": "dc8c6b51",
   "metadata": {},
   "outputs": [
    {
     "data": {
      "text/html": [
       "<div>\n",
       "<style scoped>\n",
       "    .dataframe tbody tr th:only-of-type {\n",
       "        vertical-align: middle;\n",
       "    }\n",
       "\n",
       "    .dataframe tbody tr th {\n",
       "        vertical-align: top;\n",
       "    }\n",
       "\n",
       "    .dataframe thead th {\n",
       "        text-align: right;\n",
       "    }\n",
       "</style>\n",
       "<table border=\"1\" class=\"dataframe\">\n",
       "  <thead>\n",
       "    <tr style=\"text-align: right;\">\n",
       "      <th></th>\n",
       "      <th>data</th>\n",
       "      <th>valor</th>\n",
       "    </tr>\n",
       "  </thead>\n",
       "  <tbody>\n",
       "    <tr>\n",
       "      <th>0</th>\n",
       "      <td>2023_1</td>\n",
       "      <td>1030.14</td>\n",
       "    </tr>\n",
       "    <tr>\n",
       "      <th>1</th>\n",
       "      <td>2023_2</td>\n",
       "      <td>1130.26</td>\n",
       "    </tr>\n",
       "    <tr>\n",
       "      <th>2</th>\n",
       "      <td>2023_3</td>\n",
       "      <td>1103.37</td>\n",
       "    </tr>\n",
       "    <tr>\n",
       "      <th>3</th>\n",
       "      <td>2023_4</td>\n",
       "      <td>1115.24</td>\n",
       "    </tr>\n",
       "    <tr>\n",
       "      <th>4</th>\n",
       "      <td>2023_5</td>\n",
       "      <td>1030.64</td>\n",
       "    </tr>\n",
       "    <tr>\n",
       "      <th>5</th>\n",
       "      <td>2023_6</td>\n",
       "      <td>0</td>\n",
       "    </tr>\n",
       "    <tr>\n",
       "      <th>6</th>\n",
       "      <td>2023_7</td>\n",
       "      <td>0</td>\n",
       "    </tr>\n",
       "    <tr>\n",
       "      <th>7</th>\n",
       "      <td>2023_8</td>\n",
       "      <td>0</td>\n",
       "    </tr>\n",
       "    <tr>\n",
       "      <th>8</th>\n",
       "      <td>2023_9</td>\n",
       "      <td>0</td>\n",
       "    </tr>\n",
       "    <tr>\n",
       "      <th>9</th>\n",
       "      <td>2023_10</td>\n",
       "      <td>0</td>\n",
       "    </tr>\n",
       "    <tr>\n",
       "      <th>10</th>\n",
       "      <td>2023_11</td>\n",
       "      <td>0</td>\n",
       "    </tr>\n",
       "    <tr>\n",
       "      <th>11</th>\n",
       "      <td>2023_12</td>\n",
       "      <td>0</td>\n",
       "    </tr>\n",
       "    <tr>\n",
       "      <th>12</th>\n",
       "      <td>2022_1</td>\n",
       "      <td>1480.49</td>\n",
       "    </tr>\n",
       "    <tr>\n",
       "      <th>13</th>\n",
       "      <td>2022_2</td>\n",
       "      <td>1488.11</td>\n",
       "    </tr>\n",
       "    <tr>\n",
       "      <th>14</th>\n",
       "      <td>2022_3</td>\n",
       "      <td>1258.22</td>\n",
       "    </tr>\n",
       "    <tr>\n",
       "      <th>15</th>\n",
       "      <td>2022_4</td>\n",
       "      <td>1253.25</td>\n",
       "    </tr>\n",
       "    <tr>\n",
       "      <th>16</th>\n",
       "      <td>2022_5</td>\n",
       "      <td>1259.21</td>\n",
       "    </tr>\n",
       "    <tr>\n",
       "      <th>17</th>\n",
       "      <td>2022_6</td>\n",
       "      <td>1256.28</td>\n",
       "    </tr>\n",
       "    <tr>\n",
       "      <th>18</th>\n",
       "      <td>2022_7</td>\n",
       "      <td>1119.45</td>\n",
       "    </tr>\n",
       "    <tr>\n",
       "      <th>19</th>\n",
       "      <td>2022_8</td>\n",
       "      <td>1075.91</td>\n",
       "    </tr>\n",
       "  </tbody>\n",
       "</table>\n",
       "</div>"
      ],
      "text/plain": [
       "       data    valor\n",
       "0    2023_1  1030.14\n",
       "1    2023_2  1130.26\n",
       "2    2023_3  1103.37\n",
       "3    2023_4  1115.24\n",
       "4    2023_5  1030.64\n",
       "5    2023_6        0\n",
       "6    2023_7        0\n",
       "7    2023_8        0\n",
       "8    2023_9        0\n",
       "9   2023_10        0\n",
       "10  2023_11        0\n",
       "11  2023_12        0\n",
       "12   2022_1  1480.49\n",
       "13   2022_2  1488.11\n",
       "14   2022_3  1258.22\n",
       "15   2022_4  1253.25\n",
       "16   2022_5  1259.21\n",
       "17   2022_6  1256.28\n",
       "18   2022_7  1119.45\n",
       "19   2022_8  1075.91"
      ]
     },
     "execution_count": 15,
     "metadata": {},
     "output_type": "execute_result"
    }
   ],
   "source": [
    "df.head(20)"
   ]
  },
  {
   "cell_type": "code",
   "execution_count": 16,
   "id": "d241e551",
   "metadata": {},
   "outputs": [],
   "source": [
    "df.to_csv('../data/tab_cooxupe.csv',index=None)"
   ]
  }
 ],
 "metadata": {
  "kernelspec": {
   "display_name": "Python 3 (ipykernel)",
   "language": "python",
   "name": "python3"
  },
  "language_info": {
   "codemirror_mode": {
    "name": "ipython",
    "version": 3
   },
   "file_extension": ".py",
   "mimetype": "text/x-python",
   "name": "python",
   "nbconvert_exporter": "python",
   "pygments_lexer": "ipython3",
   "version": "3.9.12"
  }
 },
 "nbformat": 4,
 "nbformat_minor": 5
}
